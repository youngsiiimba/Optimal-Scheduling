{
  "cells": [
    {
      "cell_type": "code",
      "execution_count": null,
      "metadata": {
        "id": "Epc3Eh5onjI6"
      },
      "outputs": [],
      "source": [
        "import pandas as pd"
      ]
    },
    {
      "cell_type": "code",
      "execution_count": null,
      "metadata": {
        "colab": {
          "background_save": true
        },
        "id": "hcsFNskAn4iX"
      },
      "outputs": [],
      "source": [
        "df = pd.read_csv('/content/Machine Learning Microgrid Data.csv')"
      ]
    },
    {
      "cell_type": "markdown",
      "metadata": {
        "id": "xNKFI9cIX61p"
      },
      "source": [
        "### Encode Categorical Columns\n",
        "\n",
        "<img src=\"https://miro.medium.com/max/386/1*Yp6r7m82IoSnnZDPpDpYNw.png\" width=\"640\">\n",
        "\n",
        "Let's one-hot encode categorical columns"
      ]
    },
    {
      "cell_type": "code",
      "execution_count": null,
      "metadata": {
        "colab": {
          "background_save": true,
          "base_uri": "https://localhost:8080/"
        },
        "id": "zXQqbrSa8nE8",
        "outputId": "d064aaff-0f8c-49f1-f2da-63227937367d"
      },
      "outputs": [
        {
          "data": {
            "text/plain": [
              "['Battery',\n",
              " 'Diesel Wind',\n",
              " 'Diesel',\n",
              " 'Wind',\n",
              " 'Battery Wind',\n",
              " 'Diesel Solar Wind',\n",
              " 'Battery Diesel',\n",
              " 'Battery Diesel Solar',\n",
              " 'Battery Diesel Solar Wind',\n",
              " 'Battery Solar Wind',\n",
              " 'Battery Solar',\n",
              " 'Solar Wind',\n",
              " 'Solar']"
            ]
          },
          "execution_count": 3,
          "metadata": {},
          "output_type": "execute_result"
        }
      ],
      "source": [
        "possible_combinations = list(df['Output power (Sources)'].unique())\n",
        "possible_combinations"
      ]
    },
    {
      "cell_type": "code",
      "execution_count": null,
      "metadata": {
        "id": "FHhp6w1e6r5F"
      },
      "outputs": [],
      "source": [
        "from sklearn.preprocessing import LabelEncoder\n",
        "\n",
        "# Encode labels\n",
        "le = LabelEncoder()\n",
        "df['Output power (Sources)'] = le.fit_transform(df['Output power (Sources)'])"
      ]
    },
    {
      "cell_type": "code",
      "execution_count": null,
      "metadata": {
        "colab": {
          "base_uri": "https://localhost:8080/"
        },
        "id": "WhnphWj57LjE",
        "outputId": "6ca15418-52b5-4209-bc79-4a324c3d953f"
      },
      "outputs": [
        {
          "data": {
            "text/plain": [
              "[0, 9, 7, 12, 6, 8, 1, 2, 3, 5, 4, 11, 10]"
            ]
          },
          "execution_count": 228,
          "metadata": {},
          "output_type": "execute_result"
        }
      ],
      "source": [
        "list(df['Output power (Sources)'].unique())"
      ]
    },
    {
      "cell_type": "code",
      "execution_count": null,
      "metadata": {
        "colab": {
          "base_uri": "https://localhost:8080/",
          "height": 268
        },
        "id": "_5ll9lsp6zoT",
        "outputId": "55cf5bfd-5de7-4b79-b580-cc617beb1b5f"
      },
      "outputs": [
        {
          "data": {
            "text/html": [
              "\n",
              "  <div id=\"df-839f2847-2c01-4f58-a152-9fb7a8504d85\">\n",
              "    <div class=\"colab-df-container\">\n",
              "      <div>\n",
              "<style scoped>\n",
              "    .dataframe tbody tr th:only-of-type {\n",
              "        vertical-align: middle;\n",
              "    }\n",
              "\n",
              "    .dataframe tbody tr th {\n",
              "        vertical-align: top;\n",
              "    }\n",
              "\n",
              "    .dataframe thead th {\n",
              "        text-align: right;\n",
              "    }\n",
              "</style>\n",
              "<table border=\"1\" class=\"dataframe\">\n",
              "  <thead>\n",
              "    <tr style=\"text-align: right;\">\n",
              "      <th></th>\n",
              "      <th>Time</th>\n",
              "      <th>Solar Power (MW)</th>\n",
              "      <th>Diesel Generator Power (MW)</th>\n",
              "      <th>Battery Power (MW)</th>\n",
              "      <th>Wind Power (MW)</th>\n",
              "      <th>Load Profile (MW)</th>\n",
              "      <th>Output power (MW)</th>\n",
              "      <th>Output power (Sources)</th>\n",
              "    </tr>\n",
              "  </thead>\n",
              "  <tbody>\n",
              "    <tr>\n",
              "      <th>0</th>\n",
              "      <td>0.000000e+00</td>\n",
              "      <td>-0.481781</td>\n",
              "      <td>-13.622404</td>\n",
              "      <td>1</td>\n",
              "      <td>-9.672488</td>\n",
              "      <td>0.9</td>\n",
              "      <td>1.0</td>\n",
              "      <td>0</td>\n",
              "    </tr>\n",
              "    <tr>\n",
              "      <th>1</th>\n",
              "      <td>3.155444e-30</td>\n",
              "      <td>-0.481781</td>\n",
              "      <td>-13.622404</td>\n",
              "      <td>1</td>\n",
              "      <td>-9.672488</td>\n",
              "      <td>0.9</td>\n",
              "      <td>1.0</td>\n",
              "      <td>0</td>\n",
              "    </tr>\n",
              "    <tr>\n",
              "      <th>2</th>\n",
              "      <td>6.155136e-08</td>\n",
              "      <td>-0.474034</td>\n",
              "      <td>-13.893489</td>\n",
              "      <td>1</td>\n",
              "      <td>-9.516805</td>\n",
              "      <td>0.9</td>\n",
              "      <td>1.0</td>\n",
              "      <td>0</td>\n",
              "    </tr>\n",
              "    <tr>\n",
              "      <th>3</th>\n",
              "      <td>1.846541e-07</td>\n",
              "      <td>-0.458889</td>\n",
              "      <td>-14.413524</td>\n",
              "      <td>1</td>\n",
              "      <td>-9.212482</td>\n",
              "      <td>0.9</td>\n",
              "      <td>1.0</td>\n",
              "      <td>0</td>\n",
              "    </tr>\n",
              "    <tr>\n",
              "      <th>4</th>\n",
              "      <td>3.077568e-07</td>\n",
              "      <td>-0.444237</td>\n",
              "      <td>-14.900612</td>\n",
              "      <td>1</td>\n",
              "      <td>-8.918097</td>\n",
              "      <td>0.9</td>\n",
              "      <td>1.0</td>\n",
              "      <td>0</td>\n",
              "    </tr>\n",
              "  </tbody>\n",
              "</table>\n",
              "</div>\n",
              "      <button class=\"colab-df-convert\" onclick=\"convertToInteractive('df-839f2847-2c01-4f58-a152-9fb7a8504d85')\"\n",
              "              title=\"Convert this dataframe to an interactive table.\"\n",
              "              style=\"display:none;\">\n",
              "        \n",
              "  <svg xmlns=\"http://www.w3.org/2000/svg\" height=\"24px\"viewBox=\"0 0 24 24\"\n",
              "       width=\"24px\">\n",
              "    <path d=\"M0 0h24v24H0V0z\" fill=\"none\"/>\n",
              "    <path d=\"M18.56 5.44l.94 2.06.94-2.06 2.06-.94-2.06-.94-.94-2.06-.94 2.06-2.06.94zm-11 1L8.5 8.5l.94-2.06 2.06-.94-2.06-.94L8.5 2.5l-.94 2.06-2.06.94zm10 10l.94 2.06.94-2.06 2.06-.94-2.06-.94-.94-2.06-.94 2.06-2.06.94z\"/><path d=\"M17.41 7.96l-1.37-1.37c-.4-.4-.92-.59-1.43-.59-.52 0-1.04.2-1.43.59L10.3 9.45l-7.72 7.72c-.78.78-.78 2.05 0 2.83L4 21.41c.39.39.9.59 1.41.59.51 0 1.02-.2 1.41-.59l7.78-7.78 2.81-2.81c.8-.78.8-2.07 0-2.86zM5.41 20L4 18.59l7.72-7.72 1.47 1.35L5.41 20z\"/>\n",
              "  </svg>\n",
              "      </button>\n",
              "      \n",
              "  <style>\n",
              "    .colab-df-container {\n",
              "      display:flex;\n",
              "      flex-wrap:wrap;\n",
              "      gap: 12px;\n",
              "    }\n",
              "\n",
              "    .colab-df-convert {\n",
              "      background-color: #E8F0FE;\n",
              "      border: none;\n",
              "      border-radius: 50%;\n",
              "      cursor: pointer;\n",
              "      display: none;\n",
              "      fill: #1967D2;\n",
              "      height: 32px;\n",
              "      padding: 0 0 0 0;\n",
              "      width: 32px;\n",
              "    }\n",
              "\n",
              "    .colab-df-convert:hover {\n",
              "      background-color: #E2EBFA;\n",
              "      box-shadow: 0px 1px 2px rgba(60, 64, 67, 0.3), 0px 1px 3px 1px rgba(60, 64, 67, 0.15);\n",
              "      fill: #174EA6;\n",
              "    }\n",
              "\n",
              "    [theme=dark] .colab-df-convert {\n",
              "      background-color: #3B4455;\n",
              "      fill: #D2E3FC;\n",
              "    }\n",
              "\n",
              "    [theme=dark] .colab-df-convert:hover {\n",
              "      background-color: #434B5C;\n",
              "      box-shadow: 0px 1px 3px 1px rgba(0, 0, 0, 0.15);\n",
              "      filter: drop-shadow(0px 1px 2px rgba(0, 0, 0, 0.3));\n",
              "      fill: #FFFFFF;\n",
              "    }\n",
              "  </style>\n",
              "\n",
              "      <script>\n",
              "        const buttonEl =\n",
              "          document.querySelector('#df-839f2847-2c01-4f58-a152-9fb7a8504d85 button.colab-df-convert');\n",
              "        buttonEl.style.display =\n",
              "          google.colab.kernel.accessAllowed ? 'block' : 'none';\n",
              "\n",
              "        async function convertToInteractive(key) {\n",
              "          const element = document.querySelector('#df-839f2847-2c01-4f58-a152-9fb7a8504d85');\n",
              "          const dataTable =\n",
              "            await google.colab.kernel.invokeFunction('convertToInteractive',\n",
              "                                                     [key], {});\n",
              "          if (!dataTable) return;\n",
              "\n",
              "          const docLinkHtml = 'Like what you see? Visit the ' +\n",
              "            '<a target=\"_blank\" href=https://colab.research.google.com/notebooks/data_table.ipynb>data table notebook</a>'\n",
              "            + ' to learn more about interactive tables.';\n",
              "          element.innerHTML = '';\n",
              "          dataTable['output_type'] = 'display_data';\n",
              "          await google.colab.output.renderOutput(dataTable, element);\n",
              "          const docLink = document.createElement('div');\n",
              "          docLink.innerHTML = docLinkHtml;\n",
              "          element.appendChild(docLink);\n",
              "        }\n",
              "      </script>\n",
              "    </div>\n",
              "  </div>\n",
              "  "
            ],
            "text/plain": [
              "           Time  Solar Power (MW)  Diesel Generator Power (MW)  \\\n",
              "0  0.000000e+00         -0.481781                   -13.622404   \n",
              "1  3.155444e-30         -0.481781                   -13.622404   \n",
              "2  6.155136e-08         -0.474034                   -13.893489   \n",
              "3  1.846541e-07         -0.458889                   -14.413524   \n",
              "4  3.077568e-07         -0.444237                   -14.900612   \n",
              "\n",
              "   Battery Power (MW)  Wind Power (MW)  Load Profile (MW)  Output power (MW)  \\\n",
              "0                   1        -9.672488                0.9                1.0   \n",
              "1                   1        -9.672488                0.9                1.0   \n",
              "2                   1        -9.516805                0.9                1.0   \n",
              "3                   1        -9.212482                0.9                1.0   \n",
              "4                   1        -8.918097                0.9                1.0   \n",
              "\n",
              "   Output power (Sources)  \n",
              "0                       0  \n",
              "1                       0  \n",
              "2                       0  \n",
              "3                       0  \n",
              "4                       0  "
            ]
          },
          "execution_count": 227,
          "metadata": {},
          "output_type": "execute_result"
        }
      ],
      "source": [
        "df.head()"
      ]
    },
    {
      "cell_type": "code",
      "execution_count": null,
      "metadata": {
        "colab": {
          "base_uri": "https://localhost:8080/"
        },
        "id": "DnZZtegz7eaL",
        "outputId": "4915bb91-7fd0-4f0f-c64d-d6d5272ca3ad"
      },
      "outputs": [
        {
          "data": {
            "text/plain": [
              "array(['Battery', 'Diesel Wind', 'Diesel', 'Wind', 'Battery Wind',\n",
              "       'Diesel Solar Wind', 'Battery Diesel', 'Battery Diesel Solar',\n",
              "       'Battery Diesel Solar Wind', 'Battery Solar Wind', 'Battery Solar',\n",
              "       'Solar Wind', 'Solar'], dtype=object)"
            ]
          },
          "execution_count": 229,
          "metadata": {},
          "output_type": "execute_result"
        }
      ],
      "source": [
        "le.inverse_transform([0, 9, 7, 12, 6, 8, 1, 2, 3, 5, 4, 11, 10])"
      ]
    },
    {
      "cell_type": "code",
      "execution_count": null,
      "metadata": {
        "id": "f8Q4DlLIoEI6"
      },
      "outputs": [],
      "source": [
        "input_cols = ['Solar Power (MW)', 'Diesel Generator Power (MW)', 'Battery Power (MW)', 'Wind Power (MW)', 'Load Profile (MW)']"
      ]
    },
    {
      "cell_type": "code",
      "execution_count": null,
      "metadata": {
        "id": "pGcx3-trob13"
      },
      "outputs": [],
      "source": [
        "regression_target_cols = ['Output power (MW)']\n",
        "classification_target_cols = ['Output power (Sources)']"
      ]
    },
    {
      "cell_type": "code",
      "execution_count": null,
      "metadata": {
        "id": "ytIZgQ3Zohyx"
      },
      "outputs": [],
      "source": [
        "inputs = df[input_cols]\n",
        "regression_targets = df[regression_target_cols]\n",
        "classification_targets = df[classification_target_cols]"
      ]
    },
    {
      "cell_type": "code",
      "execution_count": null,
      "metadata": {
        "id": "qWD83nTfQpRL"
      },
      "outputs": [],
      "source": [
        "numeric_cols = ['Solar Power (MW)', 'Diesel Generator Power (MW)', 'Battery Power (MW)', 'Wind Power (MW)', 'Load Profile (MW)']"
      ]
    },
    {
      "cell_type": "code",
      "execution_count": null,
      "metadata": {
        "id": "Nhxzbj7cQ3wu"
      },
      "outputs": [],
      "source": [
        "from sklearn.model_selection import train_test_split\n",
        "XR_train, XR_test, yr_train, yr_test = train_test_split(\n",
        " inputs, regression_targets, test_size=0.33, random_state=42)"
      ]
    },
    {
      "cell_type": "code",
      "execution_count": null,
      "metadata": {
        "id": "MaasXHBEQ70u"
      },
      "outputs": [],
      "source": [
        "from sklearn.model_selection import train_test_split\n",
        "XC_train, XC_test, yc_train, yc_test = train_test_split(\n",
        " inputs, classification_targets, test_size=0.33, random_state=42)"
      ]
    },
    {
      "cell_type": "code",
      "execution_count": null,
      "metadata": {
        "id": "T3d_8Wd38ANc"
      },
      "outputs": [],
      "source": []
    },
    {
      "cell_type": "markdown",
      "metadata": {
        "id": "Ax22Hyn2CUjJ"
      },
      "source": [
        "###Neural network Regressor"
      ]
    },
    {
      "cell_type": "markdown",
      "metadata": {
        "id": "mj4dpg8VDf_A"
      },
      "source": [
        "####Model design"
      ]
    },
    {
      "cell_type": "code",
      "execution_count": null,
      "metadata": {
        "colab": {
          "background_save": true
        },
        "id": "6ywoGaQbCTGH"
      },
      "outputs": [],
      "source": [
        "import tensorflow as tf\n",
        "from tensorflow.keras import layers\n",
        "NN_regression_model = tf.keras.Sequential()\n",
        "NN_regression_model.add(layers.Dense(80, activation='relu', input_shape=(inputs.shape[1],)) )\n",
        "NN_regression_model.add(layers.Dense(40, activation='relu'))\n",
        "NN_regression_model.add(layers.Dense(1))\n",
        "\n",
        "NN_regression_model.compile(loss='mse', optimizer='adam', metrics=['accuracy'])\n",
        "\n",
        "NN_regression_model.build()"
      ]
    },
    {
      "cell_type": "code",
      "execution_count": null,
      "metadata": {
        "colab": {
          "background_save": true,
          "base_uri": "https://localhost:8080/"
        },
        "id": "UdUkQ3zTDkiV",
        "outputId": "1e0c3c03-5546-4cd0-910f-c1fa0b58b297"
      },
      "outputs": [
        {
          "name": "stdout",
          "output_type": "stream",
          "text": [
            "Model: \"sequential\"\n",
            "_________________________________________________________________\n",
            " Layer (type)                Output Shape              Param #   \n",
            "=================================================================\n",
            " dense (Dense)               (None, 80)                480       \n",
            "                                                                 \n",
            " dense_1 (Dense)             (None, 40)                3240      \n",
            "                                                                 \n",
            " dense_2 (Dense)             (None, 1)                 41        \n",
            "                                                                 \n",
            "=================================================================\n",
            "Total params: 3,761\n",
            "Trainable params: 3,761\n",
            "Non-trainable params: 0\n",
            "_________________________________________________________________\n"
          ]
        }
      ],
      "source": [
        "NN_regression_model.summary()"
      ]
    },
    {
      "cell_type": "markdown",
      "metadata": {
        "id": "_XKDJDdJDxJO"
      },
      "source": [
        "####Train model"
      ]
    },
    {
      "cell_type": "code",
      "execution_count": null,
      "metadata": {
        "colab": {
          "background_save": true,
          "base_uri": "https://localhost:8080/"
        },
        "id": "Cr7BXskKDzHU",
        "outputId": "30055d95-7fe9-42e1-80bc-1d04a551317b"
      },
      "outputs": [
        {
          "name": "stdout",
          "output_type": "stream",
          "text": [
            "Epoch 1/200\n",
            "250/250 [==============================] - 4s 3ms/step - loss: 0.6689 - accuracy: 0.3985 - val_loss: 0.1177 - val_accuracy: 0.4353\n",
            "Epoch 2/200\n",
            "250/250 [==============================] - 1s 3ms/step - loss: 0.0814 - accuracy: 0.4121 - val_loss: 0.0538 - val_accuracy: 0.4353\n",
            "Epoch 3/200\n",
            "250/250 [==============================] - 1s 3ms/step - loss: 0.0480 - accuracy: 0.4117 - val_loss: 0.0247 - val_accuracy: 0.4353\n",
            "Epoch 4/200\n",
            "250/250 [==============================] - 1s 3ms/step - loss: 0.0368 - accuracy: 0.4113 - val_loss: 0.0376 - val_accuracy: 0.4353\n",
            "Epoch 5/200\n",
            "250/250 [==============================] - 1s 3ms/step - loss: 0.0322 - accuracy: 0.4105 - val_loss: 0.0427 - val_accuracy: 0.4353\n",
            "Epoch 6/200\n",
            "250/250 [==============================] - 1s 3ms/step - loss: 0.0379 - accuracy: 0.4105 - val_loss: 0.0163 - val_accuracy: 0.4353\n",
            "Epoch 7/200\n",
            "250/250 [==============================] - 1s 3ms/step - loss: 0.0268 - accuracy: 0.4117 - val_loss: 0.0168 - val_accuracy: 0.4353\n",
            "Epoch 8/200\n",
            "250/250 [==============================] - 1s 3ms/step - loss: 0.0315 - accuracy: 0.4109 - val_loss: 0.0246 - val_accuracy: 0.4317\n",
            "Epoch 9/200\n",
            "250/250 [==============================] - 1s 3ms/step - loss: 0.0321 - accuracy: 0.4113 - val_loss: 0.0132 - val_accuracy: 0.4353\n",
            "Epoch 10/200\n",
            "250/250 [==============================] - 1s 3ms/step - loss: 0.0240 - accuracy: 0.4117 - val_loss: 0.0213 - val_accuracy: 0.4353\n",
            "Epoch 11/200\n",
            "250/250 [==============================] - 1s 3ms/step - loss: 0.0264 - accuracy: 0.4121 - val_loss: 0.0141 - val_accuracy: 0.4353\n",
            "Epoch 12/200\n",
            "250/250 [==============================] - 1s 3ms/step - loss: 0.0249 - accuracy: 0.4113 - val_loss: 0.0117 - val_accuracy: 0.4353\n",
            "Epoch 13/200\n",
            "250/250 [==============================] - 1s 3ms/step - loss: 0.0213 - accuracy: 0.4121 - val_loss: 0.0119 - val_accuracy: 0.4353\n",
            "Epoch 14/200\n",
            "250/250 [==============================] - 1s 3ms/step - loss: 0.0222 - accuracy: 0.4113 - val_loss: 0.0129 - val_accuracy: 0.4353\n",
            "Epoch 15/200\n",
            "250/250 [==============================] - 1s 3ms/step - loss: 0.0231 - accuracy: 0.4117 - val_loss: 0.0282 - val_accuracy: 0.4353\n",
            "Epoch 16/200\n",
            "250/250 [==============================] - 1s 3ms/step - loss: 0.0323 - accuracy: 0.4097 - val_loss: 0.0324 - val_accuracy: 0.4353\n",
            "Epoch 17/200\n",
            "250/250 [==============================] - 1s 3ms/step - loss: 0.0228 - accuracy: 0.4121 - val_loss: 0.0372 - val_accuracy: 0.4353\n",
            "Epoch 18/200\n",
            "250/250 [==============================] - 1s 3ms/step - loss: 0.0211 - accuracy: 0.4121 - val_loss: 0.0114 - val_accuracy: 0.4353\n",
            "Epoch 19/200\n",
            "250/250 [==============================] - 1s 3ms/step - loss: 0.0222 - accuracy: 0.4105 - val_loss: 0.0140 - val_accuracy: 0.4353\n",
            "Epoch 20/200\n",
            "250/250 [==============================] - 1s 3ms/step - loss: 0.0194 - accuracy: 0.4121 - val_loss: 0.0099 - val_accuracy: 0.4353\n",
            "Epoch 21/200\n",
            "250/250 [==============================] - 1s 3ms/step - loss: 0.0179 - accuracy: 0.4121 - val_loss: 0.0121 - val_accuracy: 0.4353\n",
            "Epoch 22/200\n",
            "250/250 [==============================] - 1s 3ms/step - loss: 0.0204 - accuracy: 0.4117 - val_loss: 0.0114 - val_accuracy: 0.4353\n",
            "Epoch 23/200\n",
            "250/250 [==============================] - 1s 3ms/step - loss: 0.0291 - accuracy: 0.4105 - val_loss: 0.0255 - val_accuracy: 0.4353\n",
            "Epoch 24/200\n",
            "250/250 [==============================] - 1s 3ms/step - loss: 0.0219 - accuracy: 0.4117 - val_loss: 0.0071 - val_accuracy: 0.4353\n",
            "Epoch 25/200\n",
            "250/250 [==============================] - 1s 3ms/step - loss: 0.0182 - accuracy: 0.4121 - val_loss: 0.0100 - val_accuracy: 0.4353\n",
            "Epoch 26/200\n",
            "250/250 [==============================] - 1s 3ms/step - loss: 0.0163 - accuracy: 0.4121 - val_loss: 0.0112 - val_accuracy: 0.4353\n",
            "Epoch 27/200\n",
            "250/250 [==============================] - 1s 3ms/step - loss: 0.0180 - accuracy: 0.4121 - val_loss: 0.0208 - val_accuracy: 0.4353\n",
            "Epoch 28/200\n",
            "250/250 [==============================] - 1s 3ms/step - loss: 0.0210 - accuracy: 0.4121 - val_loss: 0.0070 - val_accuracy: 0.4353\n",
            "Epoch 29/200\n",
            "250/250 [==============================] - 1s 3ms/step - loss: 0.0217 - accuracy: 0.4117 - val_loss: 0.0282 - val_accuracy: 0.4353\n",
            "Epoch 30/200\n",
            "250/250 [==============================] - 1s 3ms/step - loss: 0.0186 - accuracy: 0.4117 - val_loss: 0.0097 - val_accuracy: 0.4353\n",
            "Epoch 31/200\n",
            "250/250 [==============================] - 1s 3ms/step - loss: 0.0180 - accuracy: 0.4113 - val_loss: 0.0099 - val_accuracy: 0.4353\n",
            "Epoch 32/200\n",
            "250/250 [==============================] - 1s 3ms/step - loss: 0.0176 - accuracy: 0.4117 - val_loss: 0.0172 - val_accuracy: 0.4353\n",
            "Epoch 33/200\n",
            "250/250 [==============================] - 1s 3ms/step - loss: 0.0178 - accuracy: 0.4109 - val_loss: 0.0078 - val_accuracy: 0.4353\n",
            "Epoch 34/200\n",
            "250/250 [==============================] - 1s 3ms/step - loss: 0.0198 - accuracy: 0.4109 - val_loss: 0.0101 - val_accuracy: 0.4353\n",
            "Epoch 35/200\n",
            "250/250 [==============================] - 1s 3ms/step - loss: 0.0168 - accuracy: 0.4113 - val_loss: 0.0355 - val_accuracy: 0.4353\n",
            "Epoch 36/200\n",
            "250/250 [==============================] - 1s 3ms/step - loss: 0.0217 - accuracy: 0.4113 - val_loss: 0.0178 - val_accuracy: 0.4353\n",
            "Epoch 37/200\n",
            "250/250 [==============================] - 1s 3ms/step - loss: 0.0138 - accuracy: 0.4121 - val_loss: 0.0097 - val_accuracy: 0.4353\n",
            "Epoch 38/200\n",
            "250/250 [==============================] - 1s 3ms/step - loss: 0.0148 - accuracy: 0.4121 - val_loss: 0.0153 - val_accuracy: 0.4353\n",
            "Epoch 39/200\n",
            "250/250 [==============================] - 1s 3ms/step - loss: 0.0160 - accuracy: 0.4117 - val_loss: 0.0083 - val_accuracy: 0.4353\n",
            "Epoch 40/200\n",
            "250/250 [==============================] - 1s 4ms/step - loss: 0.0155 - accuracy: 0.4121 - val_loss: 0.0215 - val_accuracy: 0.4353\n",
            "Epoch 41/200\n",
            "250/250 [==============================] - 1s 4ms/step - loss: 0.0181 - accuracy: 0.4121 - val_loss: 0.0065 - val_accuracy: 0.4353\n",
            "Epoch 42/200\n",
            "250/250 [==============================] - 1s 3ms/step - loss: 0.0156 - accuracy: 0.4121 - val_loss: 0.0082 - val_accuracy: 0.4353\n",
            "Epoch 43/200\n",
            "250/250 [==============================] - 1s 3ms/step - loss: 0.0183 - accuracy: 0.4109 - val_loss: 0.0156 - val_accuracy: 0.4353\n",
            "Epoch 44/200\n",
            "250/250 [==============================] - 1s 3ms/step - loss: 0.0133 - accuracy: 0.4117 - val_loss: 0.0120 - val_accuracy: 0.4353\n",
            "Epoch 45/200\n",
            "250/250 [==============================] - 1s 3ms/step - loss: 0.0145 - accuracy: 0.4117 - val_loss: 0.0084 - val_accuracy: 0.4353\n",
            "Epoch 46/200\n",
            "250/250 [==============================] - 1s 3ms/step - loss: 0.0139 - accuracy: 0.4117 - val_loss: 0.0064 - val_accuracy: 0.4353\n",
            "Epoch 47/200\n",
            "250/250 [==============================] - 1s 3ms/step - loss: 0.0136 - accuracy: 0.4121 - val_loss: 0.0043 - val_accuracy: 0.4353\n",
            "Epoch 48/200\n",
            "250/250 [==============================] - 1s 3ms/step - loss: 0.0135 - accuracy: 0.4117 - val_loss: 0.0082 - val_accuracy: 0.4353\n",
            "Epoch 49/200\n",
            "250/250 [==============================] - 1s 3ms/step - loss: 0.0144 - accuracy: 0.4121 - val_loss: 0.0068 - val_accuracy: 0.4353\n",
            "Epoch 50/200\n",
            "250/250 [==============================] - 1s 3ms/step - loss: 0.0104 - accuracy: 0.4121 - val_loss: 0.0052 - val_accuracy: 0.4353\n",
            "Epoch 51/200\n",
            "250/250 [==============================] - 1s 3ms/step - loss: 0.0142 - accuracy: 0.4117 - val_loss: 0.0076 - val_accuracy: 0.4353\n",
            "Epoch 52/200\n",
            "250/250 [==============================] - 1s 3ms/step - loss: 0.0142 - accuracy: 0.4117 - val_loss: 0.0165 - val_accuracy: 0.4353\n",
            "Epoch 53/200\n",
            "250/250 [==============================] - 1s 3ms/step - loss: 0.0125 - accuracy: 0.4117 - val_loss: 0.0091 - val_accuracy: 0.4353\n",
            "Epoch 54/200\n",
            "250/250 [==============================] - 1s 3ms/step - loss: 0.0143 - accuracy: 0.4117 - val_loss: 0.0055 - val_accuracy: 0.4353\n",
            "Epoch 55/200\n",
            "250/250 [==============================] - 1s 3ms/step - loss: 0.0112 - accuracy: 0.4121 - val_loss: 0.0045 - val_accuracy: 0.4353\n",
            "Epoch 56/200\n",
            "250/250 [==============================] - 1s 3ms/step - loss: 0.0151 - accuracy: 0.4121 - val_loss: 0.0138 - val_accuracy: 0.4353\n",
            "Epoch 57/200\n",
            "250/250 [==============================] - 1s 3ms/step - loss: 0.0135 - accuracy: 0.4121 - val_loss: 0.0075 - val_accuracy: 0.4353\n",
            "Epoch 58/200\n",
            "250/250 [==============================] - 1s 3ms/step - loss: 0.0117 - accuracy: 0.4121 - val_loss: 0.0095 - val_accuracy: 0.4353\n",
            "Epoch 59/200\n",
            "250/250 [==============================] - 1s 3ms/step - loss: 0.0113 - accuracy: 0.4121 - val_loss: 0.0033 - val_accuracy: 0.4353\n",
            "Epoch 60/200\n",
            "250/250 [==============================] - 1s 3ms/step - loss: 0.0127 - accuracy: 0.4117 - val_loss: 0.0109 - val_accuracy: 0.4353\n",
            "Epoch 61/200\n",
            "250/250 [==============================] - 1s 3ms/step - loss: 0.0104 - accuracy: 0.4121 - val_loss: 0.0098 - val_accuracy: 0.4353\n",
            "Epoch 62/200\n",
            "250/250 [==============================] - 1s 3ms/step - loss: 0.0131 - accuracy: 0.4121 - val_loss: 0.0054 - val_accuracy: 0.4353\n",
            "Epoch 63/200\n",
            "250/250 [==============================] - 1s 3ms/step - loss: 0.0108 - accuracy: 0.4121 - val_loss: 0.0133 - val_accuracy: 0.4353\n",
            "Epoch 64/200\n",
            "250/250 [==============================] - 1s 3ms/step - loss: 0.0126 - accuracy: 0.4117 - val_loss: 0.0039 - val_accuracy: 0.4353\n",
            "Epoch 65/200\n",
            "250/250 [==============================] - 1s 3ms/step - loss: 0.0098 - accuracy: 0.4121 - val_loss: 0.0040 - val_accuracy: 0.4353\n",
            "Epoch 66/200\n",
            "250/250 [==============================] - 1s 3ms/step - loss: 0.0122 - accuracy: 0.4121 - val_loss: 0.0048 - val_accuracy: 0.4353\n",
            "Epoch 67/200\n",
            "250/250 [==============================] - 1s 3ms/step - loss: 0.0129 - accuracy: 0.4121 - val_loss: 0.0078 - val_accuracy: 0.4353\n",
            "Epoch 68/200\n",
            "250/250 [==============================] - 1s 3ms/step - loss: 0.0156 - accuracy: 0.4117 - val_loss: 0.0035 - val_accuracy: 0.4353\n",
            "Epoch 69/200\n",
            "250/250 [==============================] - 1s 3ms/step - loss: 0.0126 - accuracy: 0.4121 - val_loss: 0.0045 - val_accuracy: 0.4353\n",
            "Epoch 70/200\n",
            "250/250 [==============================] - 1s 3ms/step - loss: 0.0117 - accuracy: 0.4121 - val_loss: 0.0174 - val_accuracy: 0.4353\n",
            "Epoch 71/200\n",
            "250/250 [==============================] - 1s 3ms/step - loss: 0.0105 - accuracy: 0.4117 - val_loss: 0.0030 - val_accuracy: 0.4353\n",
            "Epoch 72/200\n",
            "250/250 [==============================] - 1s 3ms/step - loss: 0.0132 - accuracy: 0.4121 - val_loss: 0.0044 - val_accuracy: 0.4353\n",
            "Epoch 73/200\n",
            "250/250 [==============================] - 1s 3ms/step - loss: 0.0131 - accuracy: 0.4121 - val_loss: 0.0116 - val_accuracy: 0.4353\n",
            "Epoch 74/200\n",
            "250/250 [==============================] - 1s 3ms/step - loss: 0.0101 - accuracy: 0.4121 - val_loss: 0.0144 - val_accuracy: 0.4353\n",
            "Epoch 75/200\n",
            "250/250 [==============================] - 1s 3ms/step - loss: 0.0102 - accuracy: 0.4117 - val_loss: 0.0070 - val_accuracy: 0.4353\n",
            "Epoch 76/200\n",
            "250/250 [==============================] - 1s 3ms/step - loss: 0.0104 - accuracy: 0.4121 - val_loss: 0.0076 - val_accuracy: 0.4353\n",
            "Epoch 77/200\n",
            "250/250 [==============================] - 1s 3ms/step - loss: 0.0115 - accuracy: 0.4117 - val_loss: 0.0042 - val_accuracy: 0.4353\n",
            "Epoch 78/200\n",
            "250/250 [==============================] - 1s 3ms/step - loss: 0.0088 - accuracy: 0.4121 - val_loss: 0.0087 - val_accuracy: 0.4353\n",
            "Epoch 79/200\n",
            "250/250 [==============================] - 1s 3ms/step - loss: 0.0100 - accuracy: 0.4121 - val_loss: 0.0032 - val_accuracy: 0.4353\n",
            "Epoch 80/200\n",
            "250/250 [==============================] - 1s 3ms/step - loss: 0.0101 - accuracy: 0.4121 - val_loss: 0.0085 - val_accuracy: 0.4353\n",
            "Epoch 81/200\n",
            "250/250 [==============================] - 1s 3ms/step - loss: 0.0083 - accuracy: 0.4121 - val_loss: 0.0043 - val_accuracy: 0.4353\n",
            "Epoch 82/200\n",
            "250/250 [==============================] - 1s 3ms/step - loss: 0.0087 - accuracy: 0.4121 - val_loss: 0.0068 - val_accuracy: 0.4353\n",
            "Epoch 83/200\n",
            "250/250 [==============================] - 1s 3ms/step - loss: 0.0110 - accuracy: 0.4121 - val_loss: 0.0082 - val_accuracy: 0.4353\n",
            "Epoch 84/200\n",
            "250/250 [==============================] - 1s 3ms/step - loss: 0.0086 - accuracy: 0.4121 - val_loss: 0.0125 - val_accuracy: 0.4353\n",
            "Epoch 85/200\n",
            "250/250 [==============================] - 1s 3ms/step - loss: 0.0123 - accuracy: 0.4117 - val_loss: 0.0049 - val_accuracy: 0.4353\n",
            "Epoch 86/200\n",
            "250/250 [==============================] - 1s 3ms/step - loss: 0.0093 - accuracy: 0.4121 - val_loss: 0.0055 - val_accuracy: 0.4353\n",
            "Epoch 87/200\n",
            "250/250 [==============================] - 1s 3ms/step - loss: 0.0107 - accuracy: 0.4121 - val_loss: 0.0080 - val_accuracy: 0.4353\n",
            "Epoch 88/200\n",
            "250/250 [==============================] - 1s 3ms/step - loss: 0.0101 - accuracy: 0.4121 - val_loss: 0.0115 - val_accuracy: 0.4353\n",
            "Epoch 89/200\n",
            "250/250 [==============================] - 1s 3ms/step - loss: 0.0121 - accuracy: 0.4121 - val_loss: 0.0098 - val_accuracy: 0.4353\n",
            "Epoch 90/200\n",
            "250/250 [==============================] - 1s 3ms/step - loss: 0.0101 - accuracy: 0.4121 - val_loss: 0.0076 - val_accuracy: 0.4353\n",
            "Epoch 91/200\n",
            "250/250 [==============================] - 1s 3ms/step - loss: 0.0090 - accuracy: 0.4121 - val_loss: 0.0063 - val_accuracy: 0.4353\n",
            "Epoch 92/200\n",
            "250/250 [==============================] - 1s 3ms/step - loss: 0.0087 - accuracy: 0.4121 - val_loss: 0.0065 - val_accuracy: 0.4353\n",
            "Epoch 93/200\n",
            "250/250 [==============================] - 1s 3ms/step - loss: 0.0108 - accuracy: 0.4121 - val_loss: 0.0100 - val_accuracy: 0.4353\n",
            "Epoch 94/200\n",
            "250/250 [==============================] - 1s 3ms/step - loss: 0.0096 - accuracy: 0.4121 - val_loss: 0.0055 - val_accuracy: 0.4353\n",
            "Epoch 95/200\n",
            "250/250 [==============================] - 1s 3ms/step - loss: 0.0110 - accuracy: 0.4121 - val_loss: 0.0053 - val_accuracy: 0.4353\n",
            "Epoch 96/200\n",
            "250/250 [==============================] - 1s 3ms/step - loss: 0.0088 - accuracy: 0.4121 - val_loss: 0.0040 - val_accuracy: 0.4353\n",
            "Epoch 97/200\n",
            "250/250 [==============================] - 1s 3ms/step - loss: 0.0086 - accuracy: 0.4121 - val_loss: 0.0085 - val_accuracy: 0.4353\n",
            "Epoch 98/200\n",
            "250/250 [==============================] - 1s 3ms/step - loss: 0.0106 - accuracy: 0.4121 - val_loss: 0.0035 - val_accuracy: 0.4353\n",
            "Epoch 99/200\n",
            "250/250 [==============================] - 1s 3ms/step - loss: 0.0089 - accuracy: 0.4117 - val_loss: 0.0053 - val_accuracy: 0.4353\n",
            "Epoch 100/200\n",
            "250/250 [==============================] - 1s 3ms/step - loss: 0.0090 - accuracy: 0.4121 - val_loss: 0.0040 - val_accuracy: 0.4353\n",
            "Epoch 101/200\n",
            "250/250 [==============================] - 1s 3ms/step - loss: 0.0115 - accuracy: 0.4121 - val_loss: 0.0083 - val_accuracy: 0.4353\n",
            "Epoch 102/200\n",
            "250/250 [==============================] - 1s 3ms/step - loss: 0.0108 - accuracy: 0.4117 - val_loss: 0.0062 - val_accuracy: 0.4353\n",
            "Epoch 103/200\n",
            "250/250 [==============================] - 1s 3ms/step - loss: 0.0085 - accuracy: 0.4121 - val_loss: 0.0128 - val_accuracy: 0.4353\n",
            "Epoch 104/200\n",
            "250/250 [==============================] - 1s 3ms/step - loss: 0.0082 - accuracy: 0.4121 - val_loss: 0.0085 - val_accuracy: 0.4353\n",
            "Epoch 105/200\n",
            "250/250 [==============================] - 1s 3ms/step - loss: 0.0093 - accuracy: 0.4121 - val_loss: 0.0071 - val_accuracy: 0.4353\n",
            "Epoch 106/200\n",
            "250/250 [==============================] - 1s 3ms/step - loss: 0.0094 - accuracy: 0.4121 - val_loss: 0.0090 - val_accuracy: 0.4353\n",
            "Epoch 107/200\n",
            "250/250 [==============================] - 1s 3ms/step - loss: 0.0090 - accuracy: 0.4117 - val_loss: 0.0041 - val_accuracy: 0.4353\n",
            "Epoch 108/200\n",
            "250/250 [==============================] - 1s 3ms/step - loss: 0.0130 - accuracy: 0.4121 - val_loss: 0.0122 - val_accuracy: 0.4353\n",
            "Epoch 109/200\n",
            "250/250 [==============================] - 1s 3ms/step - loss: 0.0092 - accuracy: 0.4121 - val_loss: 0.0053 - val_accuracy: 0.4353\n",
            "Epoch 110/200\n",
            "250/250 [==============================] - 1s 3ms/step - loss: 0.0095 - accuracy: 0.4121 - val_loss: 0.0086 - val_accuracy: 0.4353\n",
            "Epoch 111/200\n",
            "250/250 [==============================] - 1s 3ms/step - loss: 0.0105 - accuracy: 0.4121 - val_loss: 0.0060 - val_accuracy: 0.4353\n",
            "Epoch 112/200\n",
            "250/250 [==============================] - 1s 3ms/step - loss: 0.0098 - accuracy: 0.4121 - val_loss: 0.0105 - val_accuracy: 0.4353\n",
            "Epoch 113/200\n",
            "250/250 [==============================] - 1s 3ms/step - loss: 0.0105 - accuracy: 0.4117 - val_loss: 0.0036 - val_accuracy: 0.4353\n",
            "Epoch 114/200\n",
            "250/250 [==============================] - 1s 3ms/step - loss: 0.0081 - accuracy: 0.4121 - val_loss: 0.0020 - val_accuracy: 0.4353\n",
            "Epoch 115/200\n",
            "250/250 [==============================] - 1s 3ms/step - loss: 0.0076 - accuracy: 0.4121 - val_loss: 0.0053 - val_accuracy: 0.4353\n",
            "Epoch 116/200\n",
            "250/250 [==============================] - 1s 3ms/step - loss: 0.0066 - accuracy: 0.4121 - val_loss: 0.0029 - val_accuracy: 0.4353\n",
            "Epoch 117/200\n",
            "250/250 [==============================] - 1s 3ms/step - loss: 0.0132 - accuracy: 0.4121 - val_loss: 0.0089 - val_accuracy: 0.4353\n",
            "Epoch 118/200\n",
            "250/250 [==============================] - 1s 3ms/step - loss: 0.0094 - accuracy: 0.4121 - val_loss: 0.0035 - val_accuracy: 0.4353\n",
            "Epoch 119/200\n",
            "250/250 [==============================] - 1s 3ms/step - loss: 0.0100 - accuracy: 0.4121 - val_loss: 0.0134 - val_accuracy: 0.4353\n",
            "Epoch 120/200\n",
            "250/250 [==============================] - 1s 3ms/step - loss: 0.0088 - accuracy: 0.4121 - val_loss: 0.0015 - val_accuracy: 0.4353\n",
            "Epoch 121/200\n",
            "250/250 [==============================] - 1s 3ms/step - loss: 0.0113 - accuracy: 0.4121 - val_loss: 0.0025 - val_accuracy: 0.4353\n",
            "Epoch 122/200\n",
            "250/250 [==============================] - 1s 3ms/step - loss: 0.0086 - accuracy: 0.4121 - val_loss: 0.0028 - val_accuracy: 0.4353\n",
            "Epoch 123/200\n",
            "250/250 [==============================] - 1s 3ms/step - loss: 0.0082 - accuracy: 0.4121 - val_loss: 0.0048 - val_accuracy: 0.4353\n",
            "Epoch 124/200\n",
            "250/250 [==============================] - 1s 3ms/step - loss: 0.0097 - accuracy: 0.4121 - val_loss: 0.0074 - val_accuracy: 0.4353\n",
            "Epoch 125/200\n",
            "250/250 [==============================] - 1s 3ms/step - loss: 0.0107 - accuracy: 0.4121 - val_loss: 0.0097 - val_accuracy: 0.4353\n",
            "Epoch 126/200\n",
            "250/250 [==============================] - 1s 3ms/step - loss: 0.0095 - accuracy: 0.4121 - val_loss: 0.0095 - val_accuracy: 0.4353\n",
            "Epoch 127/200\n",
            "250/250 [==============================] - 1s 3ms/step - loss: 0.0096 - accuracy: 0.4121 - val_loss: 0.0050 - val_accuracy: 0.4353\n",
            "Epoch 128/200\n",
            "250/250 [==============================] - 1s 3ms/step - loss: 0.0090 - accuracy: 0.4121 - val_loss: 0.0077 - val_accuracy: 0.4353\n",
            "Epoch 129/200\n",
            "250/250 [==============================] - 1s 3ms/step - loss: 0.0069 - accuracy: 0.4121 - val_loss: 0.0038 - val_accuracy: 0.4353\n",
            "Epoch 130/200\n",
            "250/250 [==============================] - 1s 3ms/step - loss: 0.0138 - accuracy: 0.4121 - val_loss: 0.0086 - val_accuracy: 0.4353\n",
            "Epoch 131/200\n",
            "250/250 [==============================] - 1s 3ms/step - loss: 0.0086 - accuracy: 0.4117 - val_loss: 0.0071 - val_accuracy: 0.4353\n",
            "Epoch 132/200\n",
            "250/250 [==============================] - 1s 3ms/step - loss: 0.0096 - accuracy: 0.4121 - val_loss: 0.0060 - val_accuracy: 0.4353\n",
            "Epoch 133/200\n",
            "250/250 [==============================] - 1s 3ms/step - loss: 0.0075 - accuracy: 0.4121 - val_loss: 0.0053 - val_accuracy: 0.4353\n",
            "Epoch 134/200\n",
            "250/250 [==============================] - 1s 3ms/step - loss: 0.0077 - accuracy: 0.4121 - val_loss: 0.0040 - val_accuracy: 0.4353\n",
            "Epoch 135/200\n",
            "250/250 [==============================] - 1s 3ms/step - loss: 0.0081 - accuracy: 0.4121 - val_loss: 0.0037 - val_accuracy: 0.4353\n",
            "Epoch 136/200\n",
            "250/250 [==============================] - 1s 3ms/step - loss: 0.0096 - accuracy: 0.4121 - val_loss: 0.0045 - val_accuracy: 0.4353\n",
            "Epoch 137/200\n",
            "250/250 [==============================] - 1s 3ms/step - loss: 0.0077 - accuracy: 0.4121 - val_loss: 0.0081 - val_accuracy: 0.4353\n",
            "Epoch 138/200\n",
            "250/250 [==============================] - 1s 3ms/step - loss: 0.0080 - accuracy: 0.4121 - val_loss: 0.0051 - val_accuracy: 0.4353\n",
            "Epoch 139/200\n",
            "250/250 [==============================] - 1s 3ms/step - loss: 0.0093 - accuracy: 0.4117 - val_loss: 0.0047 - val_accuracy: 0.4353\n",
            "Epoch 140/200\n",
            "250/250 [==============================] - 1s 3ms/step - loss: 0.0097 - accuracy: 0.4121 - val_loss: 0.0062 - val_accuracy: 0.4353\n",
            "Epoch 141/200\n",
            "250/250 [==============================] - 1s 3ms/step - loss: 0.0092 - accuracy: 0.4121 - val_loss: 0.0088 - val_accuracy: 0.4353\n",
            "Epoch 142/200\n",
            "250/250 [==============================] - 1s 3ms/step - loss: 0.0080 - accuracy: 0.4121 - val_loss: 0.0029 - val_accuracy: 0.4353\n",
            "Epoch 143/200\n",
            "250/250 [==============================] - 1s 3ms/step - loss: 0.0077 - accuracy: 0.4121 - val_loss: 0.0040 - val_accuracy: 0.4353\n",
            "Epoch 144/200\n",
            "250/250 [==============================] - 1s 3ms/step - loss: 0.0113 - accuracy: 0.4121 - val_loss: 0.0043 - val_accuracy: 0.4353\n",
            "Epoch 145/200\n",
            "250/250 [==============================] - 1s 3ms/step - loss: 0.0066 - accuracy: 0.4121 - val_loss: 0.0060 - val_accuracy: 0.4353\n",
            "Epoch 146/200\n",
            "250/250 [==============================] - 1s 3ms/step - loss: 0.0089 - accuracy: 0.4121 - val_loss: 0.0039 - val_accuracy: 0.4353\n",
            "Epoch 147/200\n",
            "250/250 [==============================] - 1s 3ms/step - loss: 0.0082 - accuracy: 0.4121 - val_loss: 0.0076 - val_accuracy: 0.4353\n",
            "Epoch 148/200\n",
            "250/250 [==============================] - 1s 3ms/step - loss: 0.0082 - accuracy: 0.4121 - val_loss: 0.0089 - val_accuracy: 0.4353\n",
            "Epoch 149/200\n",
            "250/250 [==============================] - 1s 3ms/step - loss: 0.0075 - accuracy: 0.4121 - val_loss: 0.0015 - val_accuracy: 0.4353\n",
            "Epoch 150/200\n",
            "250/250 [==============================] - 1s 3ms/step - loss: 0.0093 - accuracy: 0.4121 - val_loss: 0.0056 - val_accuracy: 0.4353\n",
            "Epoch 151/200\n",
            "250/250 [==============================] - 1s 3ms/step - loss: 0.0119 - accuracy: 0.4113 - val_loss: 0.0042 - val_accuracy: 0.4353\n",
            "Epoch 152/200\n",
            "250/250 [==============================] - 1s 3ms/step - loss: 0.0085 - accuracy: 0.4121 - val_loss: 0.0090 - val_accuracy: 0.4353\n",
            "Epoch 153/200\n",
            "250/250 [==============================] - 1s 3ms/step - loss: 0.0093 - accuracy: 0.4121 - val_loss: 0.0060 - val_accuracy: 0.4353\n",
            "Epoch 154/200\n",
            "250/250 [==============================] - 1s 3ms/step - loss: 0.0081 - accuracy: 0.4121 - val_loss: 0.0067 - val_accuracy: 0.4353\n",
            "Epoch 155/200\n",
            "250/250 [==============================] - 1s 3ms/step - loss: 0.0095 - accuracy: 0.4121 - val_loss: 0.0058 - val_accuracy: 0.4353\n",
            "Epoch 156/200\n",
            "250/250 [==============================] - 1s 3ms/step - loss: 0.0088 - accuracy: 0.4121 - val_loss: 0.0094 - val_accuracy: 0.4353\n",
            "Epoch 157/200\n",
            "250/250 [==============================] - 1s 3ms/step - loss: 0.0073 - accuracy: 0.4121 - val_loss: 0.0014 - val_accuracy: 0.4353\n",
            "Epoch 158/200\n",
            "250/250 [==============================] - 1s 3ms/step - loss: 0.0068 - accuracy: 0.4121 - val_loss: 0.0019 - val_accuracy: 0.4353\n",
            "Epoch 159/200\n",
            "250/250 [==============================] - 1s 3ms/step - loss: 0.0089 - accuracy: 0.4121 - val_loss: 0.0054 - val_accuracy: 0.4353\n",
            "Epoch 160/200\n",
            "250/250 [==============================] - 1s 3ms/step - loss: 0.0073 - accuracy: 0.4121 - val_loss: 0.0088 - val_accuracy: 0.4353\n",
            "Epoch 161/200\n",
            "250/250 [==============================] - 1s 3ms/step - loss: 0.0095 - accuracy: 0.4121 - val_loss: 0.0044 - val_accuracy: 0.4353\n",
            "Epoch 162/200\n",
            "250/250 [==============================] - 1s 3ms/step - loss: 0.0065 - accuracy: 0.4121 - val_loss: 0.0078 - val_accuracy: 0.4353\n",
            "Epoch 163/200\n",
            "250/250 [==============================] - 1s 3ms/step - loss: 0.0071 - accuracy: 0.4121 - val_loss: 0.0011 - val_accuracy: 0.4353\n",
            "Epoch 164/200\n",
            "250/250 [==============================] - 1s 3ms/step - loss: 0.0107 - accuracy: 0.4121 - val_loss: 0.0059 - val_accuracy: 0.4353\n",
            "Epoch 165/200\n",
            "250/250 [==============================] - 1s 3ms/step - loss: 0.0077 - accuracy: 0.4121 - val_loss: 0.0019 - val_accuracy: 0.4353\n",
            "Epoch 166/200\n",
            "250/250 [==============================] - 1s 3ms/step - loss: 0.0088 - accuracy: 0.4121 - val_loss: 0.0016 - val_accuracy: 0.4353\n",
            "Epoch 167/200\n",
            "250/250 [==============================] - 1s 3ms/step - loss: 0.0076 - accuracy: 0.4121 - val_loss: 0.0070 - val_accuracy: 0.4353\n",
            "Epoch 168/200\n",
            "250/250 [==============================] - 1s 3ms/step - loss: 0.0083 - accuracy: 0.4121 - val_loss: 0.0021 - val_accuracy: 0.4353\n",
            "Epoch 169/200\n",
            "250/250 [==============================] - 1s 3ms/step - loss: 0.0084 - accuracy: 0.4121 - val_loss: 0.0082 - val_accuracy: 0.4353\n",
            "Epoch 170/200\n",
            "250/250 [==============================] - 1s 3ms/step - loss: 0.0083 - accuracy: 0.4121 - val_loss: 0.0041 - val_accuracy: 0.4353\n",
            "Epoch 171/200\n",
            "250/250 [==============================] - 1s 3ms/step - loss: 0.0074 - accuracy: 0.4121 - val_loss: 0.0132 - val_accuracy: 0.4353\n",
            "Epoch 172/200\n",
            "250/250 [==============================] - 1s 3ms/step - loss: 0.0087 - accuracy: 0.4121 - val_loss: 0.0084 - val_accuracy: 0.4353\n",
            "Epoch 173/200\n",
            "250/250 [==============================] - 1s 3ms/step - loss: 0.0106 - accuracy: 0.4121 - val_loss: 0.0044 - val_accuracy: 0.4353\n",
            "Epoch 174/200\n",
            "250/250 [==============================] - 1s 3ms/step - loss: 0.0091 - accuracy: 0.4121 - val_loss: 0.0037 - val_accuracy: 0.4353\n",
            "Epoch 175/200\n",
            "250/250 [==============================] - 1s 3ms/step - loss: 0.0094 - accuracy: 0.4121 - val_loss: 0.0058 - val_accuracy: 0.4353\n",
            "Epoch 176/200\n",
            "250/250 [==============================] - 1s 3ms/step - loss: 0.0072 - accuracy: 0.4121 - val_loss: 0.0043 - val_accuracy: 0.4353\n",
            "Epoch 177/200\n",
            "250/250 [==============================] - 1s 3ms/step - loss: 0.0059 - accuracy: 0.4121 - val_loss: 0.0026 - val_accuracy: 0.4353\n",
            "Epoch 178/200\n",
            "250/250 [==============================] - 1s 3ms/step - loss: 0.0075 - accuracy: 0.4121 - val_loss: 0.0029 - val_accuracy: 0.4353\n",
            "Epoch 179/200\n",
            "250/250 [==============================] - 1s 3ms/step - loss: 0.0087 - accuracy: 0.4121 - val_loss: 0.0033 - val_accuracy: 0.4353\n",
            "Epoch 180/200\n",
            "250/250 [==============================] - 1s 3ms/step - loss: 0.0067 - accuracy: 0.4121 - val_loss: 0.0020 - val_accuracy: 0.4353\n",
            "Epoch 181/200\n",
            "250/250 [==============================] - 1s 3ms/step - loss: 0.0067 - accuracy: 0.4121 - val_loss: 0.0031 - val_accuracy: 0.4353\n",
            "Epoch 182/200\n",
            "250/250 [==============================] - 1s 3ms/step - loss: 0.0085 - accuracy: 0.4121 - val_loss: 0.0030 - val_accuracy: 0.4353\n",
            "Epoch 183/200\n",
            "250/250 [==============================] - 1s 3ms/step - loss: 0.0074 - accuracy: 0.4121 - val_loss: 0.0027 - val_accuracy: 0.4353\n",
            "Epoch 184/200\n",
            "250/250 [==============================] - 1s 3ms/step - loss: 0.0066 - accuracy: 0.4121 - val_loss: 0.0055 - val_accuracy: 0.4353\n",
            "Epoch 185/200\n",
            "250/250 [==============================] - 1s 3ms/step - loss: 0.0129 - accuracy: 0.4121 - val_loss: 0.0054 - val_accuracy: 0.4353\n",
            "Epoch 186/200\n",
            "250/250 [==============================] - 1s 3ms/step - loss: 0.0075 - accuracy: 0.4121 - val_loss: 0.0077 - val_accuracy: 0.4353\n",
            "Epoch 187/200\n",
            "250/250 [==============================] - 1s 3ms/step - loss: 0.0082 - accuracy: 0.4121 - val_loss: 0.0066 - val_accuracy: 0.4353\n",
            "Epoch 188/200\n",
            "250/250 [==============================] - 1s 3ms/step - loss: 0.0071 - accuracy: 0.4121 - val_loss: 0.0021 - val_accuracy: 0.4353\n",
            "Epoch 189/200\n",
            "250/250 [==============================] - 1s 3ms/step - loss: 0.0088 - accuracy: 0.4121 - val_loss: 0.0018 - val_accuracy: 0.4353\n",
            "Epoch 190/200\n",
            "250/250 [==============================] - 1s 3ms/step - loss: 0.0085 - accuracy: 0.4121 - val_loss: 0.0023 - val_accuracy: 0.4353\n",
            "Epoch 191/200\n",
            "250/250 [==============================] - 1s 3ms/step - loss: 0.0085 - accuracy: 0.4121 - val_loss: 0.0100 - val_accuracy: 0.4353\n",
            "Epoch 192/200\n",
            "250/250 [==============================] - 1s 3ms/step - loss: 0.0092 - accuracy: 0.4121 - val_loss: 0.0093 - val_accuracy: 0.4353\n",
            "Epoch 193/200\n",
            "250/250 [==============================] - 1s 3ms/step - loss: 0.0071 - accuracy: 0.4121 - val_loss: 0.0038 - val_accuracy: 0.4353\n",
            "Epoch 194/200\n",
            "250/250 [==============================] - 1s 3ms/step - loss: 0.0081 - accuracy: 0.4121 - val_loss: 0.0112 - val_accuracy: 0.4353\n",
            "Epoch 195/200\n",
            "250/250 [==============================] - 1s 3ms/step - loss: 0.0076 - accuracy: 0.4121 - val_loss: 0.0062 - val_accuracy: 0.4353\n",
            "Epoch 196/200\n",
            "250/250 [==============================] - 1s 3ms/step - loss: 0.0060 - accuracy: 0.4121 - val_loss: 0.0060 - val_accuracy: 0.4353\n",
            "Epoch 197/200\n",
            "250/250 [==============================] - 1s 3ms/step - loss: 0.0074 - accuracy: 0.4121 - val_loss: 0.0071 - val_accuracy: 0.4353\n",
            "Epoch 198/200\n",
            "250/250 [==============================] - 1s 3ms/step - loss: 0.0065 - accuracy: 0.4121 - val_loss: 0.0084 - val_accuracy: 0.4353\n",
            "Epoch 199/200\n",
            "250/250 [==============================] - 1s 3ms/step - loss: 0.0120 - accuracy: 0.4121 - val_loss: 0.0071 - val_accuracy: 0.4353\n",
            "Epoch 200/200\n",
            "250/250 [==============================] - 1s 3ms/step - loss: 0.0071 - accuracy: 0.4121 - val_loss: 0.0046 - val_accuracy: 0.4353\n",
            "Training took 144.67989683151245 seconds\n"
          ]
        }
      ],
      "source": [
        "import time\n",
        "t0 = time.time()\n",
        "\n",
        "NN_regression_history = NN_regression_model.fit(XR_train, # Training features\n",
        "          yr_train, # Training labels\n",
        "          epochs=200,   # We'll stop after 10 epochs\n",
        "          batch_size=10, # \n",
        "          validation_split=0.10, # Use 10% of data to evaluate the loss. (val_loss)\n",
        "          verbose=1, #\n",
        "          )\n",
        "print(\"Training took \"+str(time.time() - t0)+\" seconds\")"
      ]
    },
    {
      "cell_type": "code",
      "execution_count": null,
      "metadata": {
        "colab": {
          "background_save": true,
          "base_uri": "https://localhost:8080/"
        },
        "id": "Rm6asdBQxnuD",
        "outputId": "ec40a8dd-f602-4cb2-d494-0017e67188ca"
      },
      "outputs": [
        {
          "data": {
            "text/plain": [
              "dict_keys(['loss', 'accuracy', 'val_loss', 'val_accuracy'])"
            ]
          },
          "execution_count": 17,
          "metadata": {},
          "output_type": "execute_result"
        }
      ],
      "source": [
        "NN_regression_history.history.keys()"
      ]
    },
    {
      "cell_type": "code",
      "execution_count": null,
      "metadata": {
        "colab": {
          "background_save": true,
          "base_uri": "https://localhost:8080/",
          "height": 265
        },
        "id": "iAPoJFoTD5Le",
        "outputId": "c9d992f7-6db9-4765-ca0f-b481390e4a1a"
      },
      "outputs": [
        {
          "data": {
            "image/png": "[encoded data removed]",
            "text/plain": [
              "<Figure size 432x288 with 1 Axes>"
            ]
          },
          "metadata": {},
          "output_type": "display_data"
        }
      ],
      "source": [
        "import matplotlib.pyplot as plt\n",
        "plt.plot(NN_regression_history.history[\"loss\"])\n",
        "plt.show()"
      ]
    },
    {
      "cell_type": "markdown",
      "metadata": {
        "id": "K1vvR3XKTIEH"
      },
      "source": [
        "####Save model"
      ]
    },
    {
      "cell_type": "code",
      "execution_count": null,
      "metadata": {
        "colab": {
          "background_save": true
        },
        "id": "Je8oT232THBE"
      },
      "outputs": [],
      "source": [
        "NN_regression_model.save(\"Optimal_Scheduling_Regression.h5\")"
      ]
    },
    {
      "cell_type": "code",
      "execution_count": null,
      "metadata": {
        "colab": {
          "background_save": true
        },
        "id": "kdKNDX-_TKsm"
      },
      "outputs": [],
      "source": [
        "NN_regression_model.save(\"Optimal_Scheduling_Regression.model\")"
      ]
    },
    {
      "cell_type": "markdown",
      "metadata": {
        "id": "JpuEeg0hEJZT"
      },
      "source": [
        "####Test model\n"
      ]
    },
    {
      "cell_type": "code",
      "execution_count": null,
      "metadata": {
        "colab": {
          "background_save": true
        },
        "id": "wuEOpL0QELOR"
      },
      "outputs": [],
      "source": [
        "from sklearn.metrics import fbeta_score\n",
        "from sklearn.metrics import confusion_matrix, recall_score, precision_score\n",
        "\n",
        "y_pred = (NN_regression_model.predict(XR_test))"
      ]
    },
    {
      "cell_type": "code",
      "execution_count": null,
      "metadata": {
        "colab": {
          "background_save": true,
          "base_uri": "https://localhost:8080/"
        },
        "id": "rw_VX72RFGmF",
        "outputId": "3bc25266-4c49-4a92-e4c7-844e6901f3e0"
      },
      "outputs": [
        {
          "data": {
            "text/plain": [
              "array([[1.0147332],\n",
              "       [1.6194265],\n",
              "       [1.6330886],\n",
              "       ...,\n",
              "       [1.0235753],\n",
              "       [1.8622198],\n",
              "       [4.4048505]], dtype=float32)"
            ]
          },
          "execution_count": 22,
          "metadata": {},
          "output_type": "execute_result"
        }
      ],
      "source": [
        "y_pred"
      ]
    },
    {
      "cell_type": "markdown",
      "metadata": {
        "id": "9DKCE8r_06l9"
      },
      "source": [
        "###NN classification"
      ]
    },
    {
      "cell_type": "code",
      "execution_count": null,
      "metadata": {
        "colab": {
          "background_save": true
        },
        "id": "WFUNcWFC0_wm"
      },
      "outputs": [],
      "source": [
        "import tensorflow as tf\n",
        "from tensorflow import keras \n",
        "from tensorflow.keras import layers\n",
        "NN_classification_model = tf.keras.Sequential()\n",
        "NN_classification_model.add(layers.Dense(80, activation='relu', input_shape=(inputs.shape[1],)) )\n",
        "NN_classification_model.add(layers.Dense(40, activation='relu'))\n",
        "NN_classification_model.add(layers.Dense(1))\n",
        "NN_classification_model.compile(loss='categorical_crossentropy', optimizer='adam', metrics=['accuracy'])\n",
        "\n",
        "NN_classification_model.build()"
      ]
    },
    {
      "cell_type": "markdown",
      "metadata": {
        "id": "6MpHJgl11ET9"
      },
      "source": [
        "####Train model"
      ]
    },
    {
      "cell_type": "code",
      "execution_count": null,
      "metadata": {
        "colab": {
          "background_save": true,
          "base_uri": "https://localhost:8080/"
        },
        "id": "yDNQApY91ET-",
        "outputId": "2ad60466-aa3f-4c25-d844-c81dd75ba964"
      },
      "outputs": [
        {
          "name": "stdout",
          "output_type": "stream",
          "text": [
            "Epoch 1/200\n",
            "250/250 [==============================] - 2s 3ms/step - loss: 3.9826e-07 - accuracy: 0.4065 - val_loss: 3.8164e-07 - val_accuracy: 0.4317\n",
            "Epoch 2/200\n",
            "250/250 [==============================] - 1s 3ms/step - loss: 3.9826e-07 - accuracy: 0.4065 - val_loss: 3.8164e-07 - val_accuracy: 0.4317\n",
            "Epoch 3/200\n",
            "250/250 [==============================] - 1s 3ms/step - loss: 3.9826e-07 - accuracy: 0.4065 - val_loss: 3.8164e-07 - val_accuracy: 0.4317\n",
            "Epoch 4/200\n",
            "250/250 [==============================] - 1s 3ms/step - loss: 3.9826e-07 - accuracy: 0.4065 - val_loss: 3.8164e-07 - val_accuracy: 0.4317\n",
            "Epoch 5/200\n",
            "250/250 [==============================] - 1s 3ms/step - loss: 3.9826e-07 - accuracy: 0.4065 - val_loss: 3.8164e-07 - val_accuracy: 0.4317\n",
            "Epoch 6/200\n",
            "250/250 [==============================] - 1s 3ms/step - loss: 3.9826e-07 - accuracy: 0.4065 - val_loss: 3.8164e-07 - val_accuracy: 0.4317\n",
            "Epoch 7/200\n",
            "250/250 [==============================] - 1s 3ms/step - loss: 3.9826e-07 - accuracy: 0.4065 - val_loss: 3.8164e-07 - val_accuracy: 0.4317\n",
            "Epoch 8/200\n",
            "250/250 [==============================] - 1s 3ms/step - loss: 3.9826e-07 - accuracy: 0.4065 - val_loss: 3.8164e-07 - val_accuracy: 0.4317\n",
            "Epoch 9/200\n",
            "250/250 [==============================] - 1s 3ms/step - loss: 3.9826e-07 - accuracy: 0.4065 - val_loss: 3.8164e-07 - val_accuracy: 0.4317\n",
            "Epoch 10/200\n",
            "250/250 [==============================] - 1s 3ms/step - loss: 3.9826e-07 - accuracy: 0.4065 - val_loss: 3.8164e-07 - val_accuracy: 0.4317\n",
            "Epoch 11/200\n",
            "250/250 [==============================] - 1s 3ms/step - loss: 3.9826e-07 - accuracy: 0.4065 - val_loss: 3.8164e-07 - val_accuracy: 0.4317\n",
            "Epoch 12/200\n",
            "250/250 [==============================] - 1s 3ms/step - loss: 3.9826e-07 - accuracy: 0.4065 - val_loss: 3.8164e-07 - val_accuracy: 0.4317\n",
            "Epoch 13/200\n",
            "250/250 [==============================] - 1s 3ms/step - loss: 3.9826e-07 - accuracy: 0.4065 - val_loss: 3.8164e-07 - val_accuracy: 0.4317\n",
            "Epoch 14/200\n",
            "250/250 [==============================] - 1s 3ms/step - loss: 3.9826e-07 - accuracy: 0.4065 - val_loss: 3.8164e-07 - val_accuracy: 0.4317\n",
            "Epoch 15/200\n",
            "250/250 [==============================] - 1s 3ms/step - loss: 3.9826e-07 - accuracy: 0.4065 - val_loss: 3.8164e-07 - val_accuracy: 0.4317\n",
            "Epoch 16/200\n",
            "250/250 [==============================] - 1s 3ms/step - loss: 3.9826e-07 - accuracy: 0.4065 - val_loss: 3.8164e-07 - val_accuracy: 0.4317\n",
            "Epoch 17/200\n",
            "250/250 [==============================] - 1s 3ms/step - loss: 3.9826e-07 - accuracy: 0.4065 - val_loss: 3.8164e-07 - val_accuracy: 0.4317\n",
            "Epoch 18/200\n",
            "250/250 [==============================] - 1s 3ms/step - loss: 3.9826e-07 - accuracy: 0.4065 - val_loss: 3.8164e-07 - val_accuracy: 0.4317\n",
            "Epoch 19/200\n",
            "250/250 [==============================] - 1s 3ms/step - loss: 3.9826e-07 - accuracy: 0.4065 - val_loss: 3.8164e-07 - val_accuracy: 0.4317\n",
            "Epoch 20/200\n",
            "250/250 [==============================] - 1s 3ms/step - loss: 3.9826e-07 - accuracy: 0.4065 - val_loss: 3.8164e-07 - val_accuracy: 0.4317\n",
            "Epoch 21/200\n",
            "250/250 [==============================] - 1s 3ms/step - loss: 3.9826e-07 - accuracy: 0.4065 - val_loss: 3.8164e-07 - val_accuracy: 0.4317\n",
            "Epoch 22/200\n",
            "250/250 [==============================] - 1s 3ms/step - loss: 3.9826e-07 - accuracy: 0.4065 - val_loss: 3.8164e-07 - val_accuracy: 0.4317\n",
            "Epoch 23/200\n",
            "250/250 [==============================] - 1s 3ms/step - loss: 3.9826e-07 - accuracy: 0.4065 - val_loss: 3.8164e-07 - val_accuracy: 0.4317\n",
            "Epoch 24/200\n",
            "250/250 [==============================] - 1s 3ms/step - loss: 3.9826e-07 - accuracy: 0.4065 - val_loss: 3.8164e-07 - val_accuracy: 0.4317\n",
            "Epoch 25/200\n",
            "250/250 [==============================] - 1s 3ms/step - loss: 3.9826e-07 - accuracy: 0.4065 - val_loss: 3.8164e-07 - val_accuracy: 0.4317\n",
            "Epoch 26/200\n",
            "250/250 [==============================] - 1s 3ms/step - loss: 3.9826e-07 - accuracy: 0.4065 - val_loss: 3.8164e-07 - val_accuracy: 0.4317\n",
            "Epoch 27/200\n",
            "250/250 [==============================] - 1s 3ms/step - loss: 3.9826e-07 - accuracy: 0.4065 - val_loss: 3.8164e-07 - val_accuracy: 0.4317\n",
            "Epoch 28/200\n",
            "250/250 [==============================] - 1s 3ms/step - loss: 3.9826e-07 - accuracy: 0.4065 - val_loss: 3.8164e-07 - val_accuracy: 0.4317\n",
            "Epoch 29/200\n",
            "250/250 [==============================] - 1s 3ms/step - loss: 3.9826e-07 - accuracy: 0.4065 - val_loss: 3.8164e-07 - val_accuracy: 0.4317\n",
            "Epoch 30/200\n",
            "250/250 [==============================] - 1s 3ms/step - loss: 3.9826e-07 - accuracy: 0.4065 - val_loss: 3.8164e-07 - val_accuracy: 0.4317\n",
            "Epoch 31/200\n",
            "250/250 [==============================] - 1s 3ms/step - loss: 3.9826e-07 - accuracy: 0.4065 - val_loss: 3.8164e-07 - val_accuracy: 0.4317\n",
            "Epoch 32/200\n",
            "250/250 [==============================] - 1s 3ms/step - loss: 3.9826e-07 - accuracy: 0.4065 - val_loss: 3.8164e-07 - val_accuracy: 0.4317\n",
            "Epoch 33/200\n",
            "250/250 [==============================] - 1s 3ms/step - loss: 3.9826e-07 - accuracy: 0.4065 - val_loss: 3.8164e-07 - val_accuracy: 0.4317\n",
            "Epoch 34/200\n",
            "250/250 [==============================] - 1s 3ms/step - loss: 3.9826e-07 - accuracy: 0.4065 - val_loss: 3.8164e-07 - val_accuracy: 0.4317\n",
            "Epoch 35/200\n",
            "250/250 [==============================] - 1s 3ms/step - loss: 3.9826e-07 - accuracy: 0.4065 - val_loss: 3.8164e-07 - val_accuracy: 0.4317\n",
            "Epoch 36/200\n",
            "250/250 [==============================] - 1s 3ms/step - loss: 3.9826e-07 - accuracy: 0.4065 - val_loss: 3.8164e-07 - val_accuracy: 0.4317\n",
            "Epoch 37/200\n",
            "250/250 [==============================] - 1s 3ms/step - loss: 3.9826e-07 - accuracy: 0.4065 - val_loss: 3.8164e-07 - val_accuracy: 0.4317\n",
            "Epoch 38/200\n",
            "250/250 [==============================] - 1s 3ms/step - loss: 3.9826e-07 - accuracy: 0.4065 - val_loss: 3.8164e-07 - val_accuracy: 0.4317\n",
            "Epoch 39/200\n",
            "250/250 [==============================] - 1s 3ms/step - loss: 3.9826e-07 - accuracy: 0.4065 - val_loss: 3.8164e-07 - val_accuracy: 0.4317\n",
            "Epoch 40/200\n",
            "250/250 [==============================] - 1s 3ms/step - loss: 3.9826e-07 - accuracy: 0.4065 - val_loss: 3.8164e-07 - val_accuracy: 0.4317\n",
            "Epoch 41/200\n",
            "250/250 [==============================] - 1s 3ms/step - loss: 3.9826e-07 - accuracy: 0.4065 - val_loss: 3.8164e-07 - val_accuracy: 0.4317\n",
            "Epoch 42/200\n",
            "250/250 [==============================] - 1s 3ms/step - loss: 3.9826e-07 - accuracy: 0.4065 - val_loss: 3.8164e-07 - val_accuracy: 0.4317\n",
            "Epoch 43/200\n",
            "250/250 [==============================] - 1s 3ms/step - loss: 3.9826e-07 - accuracy: 0.4065 - val_loss: 3.8164e-07 - val_accuracy: 0.4317\n",
            "Epoch 44/200\n",
            "250/250 [==============================] - 1s 3ms/step - loss: 3.9826e-07 - accuracy: 0.4065 - val_loss: 3.8164e-07 - val_accuracy: 0.4317\n",
            "Epoch 45/200\n",
            "250/250 [==============================] - 1s 3ms/step - loss: 3.9826e-07 - accuracy: 0.4065 - val_loss: 3.8164e-07 - val_accuracy: 0.4317\n",
            "Epoch 46/200\n",
            "250/250 [==============================] - 1s 3ms/step - loss: 3.9826e-07 - accuracy: 0.4065 - val_loss: 3.8164e-07 - val_accuracy: 0.4317\n",
            "Epoch 47/200\n",
            "250/250 [==============================] - 1s 3ms/step - loss: 3.9826e-07 - accuracy: 0.4065 - val_loss: 3.8164e-07 - val_accuracy: 0.4317\n",
            "Epoch 48/200\n",
            "250/250 [==============================] - 1s 3ms/step - loss: 3.9826e-07 - accuracy: 0.4065 - val_loss: 3.8164e-07 - val_accuracy: 0.4317\n",
            "Epoch 49/200\n",
            "250/250 [==============================] - 1s 3ms/step - loss: 3.9826e-07 - accuracy: 0.4065 - val_loss: 3.8164e-07 - val_accuracy: 0.4317\n",
            "Epoch 50/200\n",
            "250/250 [==============================] - 1s 3ms/step - loss: 3.9826e-07 - accuracy: 0.4065 - val_loss: 3.8164e-07 - val_accuracy: 0.4317\n",
            "Epoch 51/200\n",
            "250/250 [==============================] - 1s 3ms/step - loss: 3.9826e-07 - accuracy: 0.4065 - val_loss: 3.8164e-07 - val_accuracy: 0.4317\n",
            "Epoch 52/200\n",
            "250/250 [==============================] - 1s 3ms/step - loss: 3.9826e-07 - accuracy: 0.4065 - val_loss: 3.8164e-07 - val_accuracy: 0.4317\n",
            "Epoch 53/200\n",
            "250/250 [==============================] - 1s 3ms/step - loss: 3.9826e-07 - accuracy: 0.4065 - val_loss: 3.8164e-07 - val_accuracy: 0.4317\n",
            "Epoch 54/200\n",
            "250/250 [==============================] - 1s 3ms/step - loss: 3.9826e-07 - accuracy: 0.4065 - val_loss: 3.8164e-07 - val_accuracy: 0.4317\n",
            "Epoch 55/200\n",
            "250/250 [==============================] - 1s 3ms/step - loss: 3.9826e-07 - accuracy: 0.4065 - val_loss: 3.8164e-07 - val_accuracy: 0.4317\n",
            "Epoch 56/200\n",
            "250/250 [==============================] - 1s 3ms/step - loss: 3.9826e-07 - accuracy: 0.4065 - val_loss: 3.8164e-07 - val_accuracy: 0.4317\n",
            "Epoch 57/200\n",
            "250/250 [==============================] - 1s 3ms/step - loss: 3.9826e-07 - accuracy: 0.4065 - val_loss: 3.8164e-07 - val_accuracy: 0.4317\n",
            "Epoch 58/200\n",
            "250/250 [==============================] - 1s 3ms/step - loss: 3.9826e-07 - accuracy: 0.4065 - val_loss: 3.8164e-07 - val_accuracy: 0.4317\n",
            "Epoch 59/200\n",
            "250/250 [==============================] - 1s 3ms/step - loss: 3.9826e-07 - accuracy: 0.4065 - val_loss: 3.8164e-07 - val_accuracy: 0.4317\n",
            "Epoch 60/200\n",
            "250/250 [==============================] - 1s 3ms/step - loss: 3.9826e-07 - accuracy: 0.4065 - val_loss: 3.8164e-07 - val_accuracy: 0.4317\n",
            "Epoch 61/200\n",
            "250/250 [==============================] - 1s 3ms/step - loss: 3.9826e-07 - accuracy: 0.4065 - val_loss: 3.8164e-07 - val_accuracy: 0.4317\n",
            "Epoch 62/200\n",
            "250/250 [==============================] - 1s 3ms/step - loss: 3.9826e-07 - accuracy: 0.4065 - val_loss: 3.8164e-07 - val_accuracy: 0.4317\n",
            "Epoch 63/200\n",
            "250/250 [==============================] - 1s 3ms/step - loss: 3.9826e-07 - accuracy: 0.4065 - val_loss: 3.8164e-07 - val_accuracy: 0.4317\n",
            "Epoch 64/200\n",
            "250/250 [==============================] - 1s 3ms/step - loss: 3.9826e-07 - accuracy: 0.4065 - val_loss: 3.8164e-07 - val_accuracy: 0.4317\n",
            "Epoch 65/200\n",
            "250/250 [==============================] - 1s 3ms/step - loss: 3.9826e-07 - accuracy: 0.4065 - val_loss: 3.8164e-07 - val_accuracy: 0.4317\n",
            "Epoch 66/200\n",
            "250/250 [==============================] - 1s 3ms/step - loss: 3.9826e-07 - accuracy: 0.4065 - val_loss: 3.8164e-07 - val_accuracy: 0.4317\n",
            "Epoch 67/200\n",
            "250/250 [==============================] - 1s 3ms/step - loss: 3.9826e-07 - accuracy: 0.4065 - val_loss: 3.8164e-07 - val_accuracy: 0.4317\n",
            "Epoch 68/200\n",
            "250/250 [==============================] - 1s 3ms/step - loss: 3.9826e-07 - accuracy: 0.4065 - val_loss: 3.8164e-07 - val_accuracy: 0.4317\n",
            "Epoch 69/200\n",
            "250/250 [==============================] - 1s 3ms/step - loss: 3.9826e-07 - accuracy: 0.4065 - val_loss: 3.8164e-07 - val_accuracy: 0.4317\n",
            "Epoch 70/200\n",
            "250/250 [==============================] - 1s 3ms/step - loss: 3.9826e-07 - accuracy: 0.4065 - val_loss: 3.8164e-07 - val_accuracy: 0.4317\n",
            "Epoch 71/200\n",
            "250/250 [==============================] - 1s 3ms/step - loss: 3.9826e-07 - accuracy: 0.4065 - val_loss: 3.8164e-07 - val_accuracy: 0.4317\n",
            "Epoch 72/200\n",
            "250/250 [==============================] - 1s 3ms/step - loss: 3.9826e-07 - accuracy: 0.4065 - val_loss: 3.8164e-07 - val_accuracy: 0.4317\n",
            "Epoch 73/200\n",
            "250/250 [==============================] - 1s 3ms/step - loss: 3.9826e-07 - accuracy: 0.4065 - val_loss: 3.8164e-07 - val_accuracy: 0.4317\n",
            "Epoch 74/200\n",
            "250/250 [==============================] - 1s 3ms/step - loss: 3.9826e-07 - accuracy: 0.4065 - val_loss: 3.8164e-07 - val_accuracy: 0.4317\n",
            "Epoch 75/200\n",
            "250/250 [==============================] - 1s 3ms/step - loss: 3.9826e-07 - accuracy: 0.4065 - val_loss: 3.8164e-07 - val_accuracy: 0.4317\n",
            "Epoch 76/200\n",
            "250/250 [==============================] - 1s 3ms/step - loss: 3.9826e-07 - accuracy: 0.4065 - val_loss: 3.8164e-07 - val_accuracy: 0.4317\n",
            "Epoch 77/200\n",
            "250/250 [==============================] - 1s 3ms/step - loss: 3.9826e-07 - accuracy: 0.4065 - val_loss: 3.8164e-07 - val_accuracy: 0.4317\n",
            "Epoch 78/200\n",
            "250/250 [==============================] - 1s 3ms/step - loss: 3.9826e-07 - accuracy: 0.4065 - val_loss: 3.8164e-07 - val_accuracy: 0.4317\n",
            "Epoch 79/200\n",
            "250/250 [==============================] - 1s 3ms/step - loss: 3.9826e-07 - accuracy: 0.4065 - val_loss: 3.8164e-07 - val_accuracy: 0.4317\n",
            "Epoch 80/200\n",
            "250/250 [==============================] - 1s 3ms/step - loss: 3.9826e-07 - accuracy: 0.4065 - val_loss: 3.8164e-07 - val_accuracy: 0.4317\n",
            "Epoch 81/200\n",
            "250/250 [==============================] - 1s 3ms/step - loss: 3.9826e-07 - accuracy: 0.4065 - val_loss: 3.8164e-07 - val_accuracy: 0.4317\n",
            "Epoch 82/200\n",
            "250/250 [==============================] - 1s 3ms/step - loss: 3.9826e-07 - accuracy: 0.4065 - val_loss: 3.8164e-07 - val_accuracy: 0.4317\n",
            "Epoch 83/200\n",
            "250/250 [==============================] - 1s 3ms/step - loss: 3.9826e-07 - accuracy: 0.4065 - val_loss: 3.8164e-07 - val_accuracy: 0.4317\n",
            "Epoch 84/200\n",
            "250/250 [==============================] - 1s 3ms/step - loss: 3.9826e-07 - accuracy: 0.4065 - val_loss: 3.8164e-07 - val_accuracy: 0.4317\n",
            "Epoch 85/200\n",
            "250/250 [==============================] - 1s 3ms/step - loss: 3.9826e-07 - accuracy: 0.4065 - val_loss: 3.8164e-07 - val_accuracy: 0.4317\n",
            "Epoch 86/200\n",
            "250/250 [==============================] - 1s 3ms/step - loss: 3.9826e-07 - accuracy: 0.4065 - val_loss: 3.8164e-07 - val_accuracy: 0.4317\n",
            "Epoch 87/200\n",
            "250/250 [==============================] - 1s 3ms/step - loss: 3.9826e-07 - accuracy: 0.4065 - val_loss: 3.8164e-07 - val_accuracy: 0.4317\n",
            "Epoch 88/200\n",
            "250/250 [==============================] - 1s 3ms/step - loss: 3.9826e-07 - accuracy: 0.4065 - val_loss: 3.8164e-07 - val_accuracy: 0.4317\n",
            "Epoch 89/200\n",
            "250/250 [==============================] - 1s 3ms/step - loss: 3.9826e-07 - accuracy: 0.4065 - val_loss: 3.8164e-07 - val_accuracy: 0.4317\n",
            "Epoch 90/200\n",
            "250/250 [==============================] - 1s 3ms/step - loss: 3.9826e-07 - accuracy: 0.4065 - val_loss: 3.8164e-07 - val_accuracy: 0.4317\n",
            "Epoch 91/200\n",
            "250/250 [==============================] - 1s 3ms/step - loss: 3.9826e-07 - accuracy: 0.4065 - val_loss: 3.8164e-07 - val_accuracy: 0.4317\n",
            "Epoch 92/200\n",
            "250/250 [==============================] - 1s 3ms/step - loss: 3.9826e-07 - accuracy: 0.4065 - val_loss: 3.8164e-07 - val_accuracy: 0.4317\n",
            "Epoch 93/200\n",
            "250/250 [==============================] - 1s 3ms/step - loss: 3.9826e-07 - accuracy: 0.4065 - val_loss: 3.8164e-07 - val_accuracy: 0.4317\n",
            "Epoch 94/200\n",
            "250/250 [==============================] - 1s 3ms/step - loss: 3.9826e-07 - accuracy: 0.4065 - val_loss: 3.8164e-07 - val_accuracy: 0.4317\n",
            "Epoch 95/200\n",
            "250/250 [==============================] - 1s 3ms/step - loss: 3.9826e-07 - accuracy: 0.4065 - val_loss: 3.8164e-07 - val_accuracy: 0.4317\n",
            "Epoch 96/200\n",
            "250/250 [==============================] - 1s 3ms/step - loss: 3.9826e-07 - accuracy: 0.4065 - val_loss: 3.8164e-07 - val_accuracy: 0.4317\n",
            "Epoch 97/200\n",
            "250/250 [==============================] - 1s 3ms/step - loss: 3.9826e-07 - accuracy: 0.4065 - val_loss: 3.8164e-07 - val_accuracy: 0.4317\n",
            "Epoch 98/200\n",
            "250/250 [==============================] - 1s 3ms/step - loss: 3.9826e-07 - accuracy: 0.4065 - val_loss: 3.8164e-07 - val_accuracy: 0.4317\n",
            "Epoch 99/200\n",
            "250/250 [==============================] - 1s 3ms/step - loss: 3.9826e-07 - accuracy: 0.4065 - val_loss: 3.8164e-07 - val_accuracy: 0.4317\n",
            "Epoch 100/200\n",
            "250/250 [==============================] - 1s 3ms/step - loss: 3.9826e-07 - accuracy: 0.4065 - val_loss: 3.8164e-07 - val_accuracy: 0.4317\n",
            "Epoch 101/200\n",
            "250/250 [==============================] - 1s 3ms/step - loss: 3.9826e-07 - accuracy: 0.4065 - val_loss: 3.8164e-07 - val_accuracy: 0.4317\n",
            "Epoch 102/200\n",
            "250/250 [==============================] - 1s 3ms/step - loss: 3.9826e-07 - accuracy: 0.4065 - val_loss: 3.8164e-07 - val_accuracy: 0.4317\n",
            "Epoch 103/200\n",
            "250/250 [==============================] - 1s 3ms/step - loss: 3.9826e-07 - accuracy: 0.4065 - val_loss: 3.8164e-07 - val_accuracy: 0.4317\n",
            "Epoch 104/200\n",
            "250/250 [==============================] - 1s 3ms/step - loss: 3.9826e-07 - accuracy: 0.4065 - val_loss: 3.8164e-07 - val_accuracy: 0.4317\n",
            "Epoch 105/200\n",
            "250/250 [==============================] - 1s 3ms/step - loss: 3.9826e-07 - accuracy: 0.4065 - val_loss: 3.8164e-07 - val_accuracy: 0.4317\n",
            "Epoch 106/200\n",
            "250/250 [==============================] - 1s 3ms/step - loss: 3.9826e-07 - accuracy: 0.4065 - val_loss: 3.8164e-07 - val_accuracy: 0.4317\n",
            "Epoch 107/200\n",
            "250/250 [==============================] - 1s 3ms/step - loss: 3.9826e-07 - accuracy: 0.4065 - val_loss: 3.8164e-07 - val_accuracy: 0.4317\n",
            "Epoch 108/200\n",
            "250/250 [==============================] - 1s 3ms/step - loss: 3.9826e-07 - accuracy: 0.4065 - val_loss: 3.8164e-07 - val_accuracy: 0.4317\n",
            "Epoch 109/200\n",
            "250/250 [==============================] - 1s 3ms/step - loss: 3.9826e-07 - accuracy: 0.4065 - val_loss: 3.8164e-07 - val_accuracy: 0.4317\n",
            "Epoch 110/200\n",
            "250/250 [==============================] - 1s 3ms/step - loss: 3.9826e-07 - accuracy: 0.4065 - val_loss: 3.8164e-07 - val_accuracy: 0.4317\n",
            "Epoch 111/200\n",
            "250/250 [==============================] - 1s 3ms/step - loss: 3.9826e-07 - accuracy: 0.4065 - val_loss: 3.8164e-07 - val_accuracy: 0.4317\n",
            "Epoch 112/200\n",
            "250/250 [==============================] - 1s 3ms/step - loss: 3.9826e-07 - accuracy: 0.4065 - val_loss: 3.8164e-07 - val_accuracy: 0.4317\n",
            "Epoch 113/200\n",
            "250/250 [==============================] - 1s 3ms/step - loss: 3.9826e-07 - accuracy: 0.4065 - val_loss: 3.8164e-07 - val_accuracy: 0.4317\n",
            "Epoch 114/200\n",
            "250/250 [==============================] - 1s 3ms/step - loss: 3.9826e-07 - accuracy: 0.4065 - val_loss: 3.8164e-07 - val_accuracy: 0.4317\n",
            "Epoch 115/200\n",
            "250/250 [==============================] - 1s 3ms/step - loss: 3.9826e-07 - accuracy: 0.4065 - val_loss: 3.8164e-07 - val_accuracy: 0.4317\n",
            "Epoch 116/200\n",
            "250/250 [==============================] - 1s 3ms/step - loss: 3.9826e-07 - accuracy: 0.4065 - val_loss: 3.8164e-07 - val_accuracy: 0.4317\n",
            "Epoch 117/200\n",
            "250/250 [==============================] - 1s 3ms/step - loss: 3.9826e-07 - accuracy: 0.4065 - val_loss: 3.8164e-07 - val_accuracy: 0.4317\n",
            "Epoch 118/200\n",
            "250/250 [==============================] - 1s 3ms/step - loss: 3.9826e-07 - accuracy: 0.4065 - val_loss: 3.8164e-07 - val_accuracy: 0.4317\n",
            "Epoch 119/200\n",
            "250/250 [==============================] - 1s 3ms/step - loss: 3.9826e-07 - accuracy: 0.4065 - val_loss: 3.8164e-07 - val_accuracy: 0.4317\n",
            "Epoch 120/200\n",
            "250/250 [==============================] - 1s 3ms/step - loss: 3.9826e-07 - accuracy: 0.4065 - val_loss: 3.8164e-07 - val_accuracy: 0.4317\n",
            "Epoch 121/200\n",
            "250/250 [==============================] - 1s 3ms/step - loss: 3.9826e-07 - accuracy: 0.4065 - val_loss: 3.8164e-07 - val_accuracy: 0.4317\n",
            "Epoch 122/200\n",
            "250/250 [==============================] - 1s 3ms/step - loss: 3.9826e-07 - accuracy: 0.4065 - val_loss: 3.8164e-07 - val_accuracy: 0.4317\n",
            "Epoch 123/200\n",
            "250/250 [==============================] - 1s 3ms/step - loss: 3.9826e-07 - accuracy: 0.4065 - val_loss: 3.8164e-07 - val_accuracy: 0.4317\n",
            "Epoch 124/200\n",
            "250/250 [==============================] - 1s 3ms/step - loss: 3.9826e-07 - accuracy: 0.4065 - val_loss: 3.8164e-07 - val_accuracy: 0.4317\n",
            "Epoch 125/200\n",
            "250/250 [==============================] - 1s 3ms/step - loss: 3.9826e-07 - accuracy: 0.4065 - val_loss: 3.8164e-07 - val_accuracy: 0.4317\n",
            "Epoch 126/200\n",
            "250/250 [==============================] - 1s 3ms/step - loss: 3.9826e-07 - accuracy: 0.4065 - val_loss: 3.8164e-07 - val_accuracy: 0.4317\n",
            "Epoch 127/200\n",
            "250/250 [==============================] - 1s 3ms/step - loss: 3.9826e-07 - accuracy: 0.4065 - val_loss: 3.8164e-07 - val_accuracy: 0.4317\n",
            "Epoch 128/200\n",
            "250/250 [==============================] - 1s 3ms/step - loss: 3.9826e-07 - accuracy: 0.4065 - val_loss: 3.8164e-07 - val_accuracy: 0.4317\n",
            "Epoch 129/200\n",
            "250/250 [==============================] - 1s 3ms/step - loss: 3.9826e-07 - accuracy: 0.4065 - val_loss: 3.8164e-07 - val_accuracy: 0.4317\n",
            "Epoch 130/200\n",
            "250/250 [==============================] - 1s 3ms/step - loss: 3.9826e-07 - accuracy: 0.4065 - val_loss: 3.8164e-07 - val_accuracy: 0.4317\n",
            "Epoch 131/200\n",
            "250/250 [==============================] - 1s 3ms/step - loss: 3.9826e-07 - accuracy: 0.4065 - val_loss: 3.8164e-07 - val_accuracy: 0.4317\n",
            "Epoch 132/200\n",
            "250/250 [==============================] - 1s 3ms/step - loss: 3.9826e-07 - accuracy: 0.4065 - val_loss: 3.8164e-07 - val_accuracy: 0.4317\n",
            "Epoch 133/200\n",
            "250/250 [==============================] - 1s 3ms/step - loss: 3.9826e-07 - accuracy: 0.4065 - val_loss: 3.8164e-07 - val_accuracy: 0.4317\n",
            "Epoch 134/200\n",
            "250/250 [==============================] - 1s 3ms/step - loss: 3.9826e-07 - accuracy: 0.4065 - val_loss: 3.8164e-07 - val_accuracy: 0.4317\n",
            "Epoch 135/200\n",
            "250/250 [==============================] - 1s 3ms/step - loss: 3.9826e-07 - accuracy: 0.4065 - val_loss: 3.8164e-07 - val_accuracy: 0.4317\n",
            "Epoch 136/200\n",
            "250/250 [==============================] - 1s 3ms/step - loss: 3.9826e-07 - accuracy: 0.4065 - val_loss: 3.8164e-07 - val_accuracy: 0.4317\n",
            "Epoch 137/200\n",
            "250/250 [==============================] - 1s 3ms/step - loss: 3.9826e-07 - accuracy: 0.4065 - val_loss: 3.8164e-07 - val_accuracy: 0.4317\n",
            "Epoch 138/200\n",
            "250/250 [==============================] - 1s 3ms/step - loss: 3.9826e-07 - accuracy: 0.4065 - val_loss: 3.8164e-07 - val_accuracy: 0.4317\n",
            "Epoch 139/200\n",
            "250/250 [==============================] - 1s 3ms/step - loss: 3.9826e-07 - accuracy: 0.4065 - val_loss: 3.8164e-07 - val_accuracy: 0.4317\n",
            "Epoch 140/200\n",
            "250/250 [==============================] - 1s 3ms/step - loss: 3.9826e-07 - accuracy: 0.4065 - val_loss: 3.8164e-07 - val_accuracy: 0.4317\n",
            "Epoch 141/200\n",
            "250/250 [==============================] - 1s 3ms/step - loss: 3.9826e-07 - accuracy: 0.4065 - val_loss: 3.8164e-07 - val_accuracy: 0.4317\n",
            "Epoch 142/200\n",
            "250/250 [==============================] - 1s 3ms/step - loss: 3.9826e-07 - accuracy: 0.4065 - val_loss: 3.8164e-07 - val_accuracy: 0.4317\n",
            "Epoch 143/200\n",
            "250/250 [==============================] - 1s 3ms/step - loss: 3.9826e-07 - accuracy: 0.4065 - val_loss: 3.8164e-07 - val_accuracy: 0.4317\n",
            "Epoch 144/200\n",
            "250/250 [==============================] - 1s 3ms/step - loss: 3.9826e-07 - accuracy: 0.4065 - val_loss: 3.8164e-07 - val_accuracy: 0.4317\n",
            "Epoch 145/200\n",
            "250/250 [==============================] - 1s 3ms/step - loss: 3.9826e-07 - accuracy: 0.4065 - val_loss: 3.8164e-07 - val_accuracy: 0.4317\n",
            "Epoch 146/200\n",
            "250/250 [==============================] - 1s 3ms/step - loss: 3.9826e-07 - accuracy: 0.4065 - val_loss: 3.8164e-07 - val_accuracy: 0.4317\n",
            "Epoch 147/200\n",
            "250/250 [==============================] - 1s 3ms/step - loss: 3.9826e-07 - accuracy: 0.4065 - val_loss: 3.8164e-07 - val_accuracy: 0.4317\n",
            "Epoch 148/200\n",
            "250/250 [==============================] - 1s 3ms/step - loss: 3.9826e-07 - accuracy: 0.4065 - val_loss: 3.8164e-07 - val_accuracy: 0.4317\n",
            "Epoch 149/200\n",
            "250/250 [==============================] - 1s 3ms/step - loss: 3.9826e-07 - accuracy: 0.4065 - val_loss: 3.8164e-07 - val_accuracy: 0.4317\n",
            "Epoch 150/200\n",
            "250/250 [==============================] - 1s 3ms/step - loss: 3.9826e-07 - accuracy: 0.4065 - val_loss: 3.8164e-07 - val_accuracy: 0.4317\n",
            "Epoch 151/200\n",
            "250/250 [==============================] - 1s 3ms/step - loss: 3.9826e-07 - accuracy: 0.4065 - val_loss: 3.8164e-07 - val_accuracy: 0.4317\n",
            "Epoch 152/200\n",
            "250/250 [==============================] - 1s 3ms/step - loss: 3.9826e-07 - accuracy: 0.4065 - val_loss: 3.8164e-07 - val_accuracy: 0.4317\n",
            "Epoch 153/200\n",
            "250/250 [==============================] - 1s 3ms/step - loss: 3.9826e-07 - accuracy: 0.4065 - val_loss: 3.8164e-07 - val_accuracy: 0.4317\n",
            "Epoch 154/200\n",
            "250/250 [==============================] - 1s 3ms/step - loss: 3.9826e-07 - accuracy: 0.4065 - val_loss: 3.8164e-07 - val_accuracy: 0.4317\n",
            "Epoch 155/200\n",
            "250/250 [==============================] - 1s 3ms/step - loss: 3.9826e-07 - accuracy: 0.4065 - val_loss: 3.8164e-07 - val_accuracy: 0.4317\n",
            "Epoch 156/200\n",
            "250/250 [==============================] - 1s 3ms/step - loss: 3.9826e-07 - accuracy: 0.4065 - val_loss: 3.8164e-07 - val_accuracy: 0.4317\n",
            "Epoch 157/200\n",
            "250/250 [==============================] - 1s 3ms/step - loss: 3.9826e-07 - accuracy: 0.4065 - val_loss: 3.8164e-07 - val_accuracy: 0.4317\n",
            "Epoch 158/200\n",
            "250/250 [==============================] - 1s 3ms/step - loss: 3.9826e-07 - accuracy: 0.4065 - val_loss: 3.8164e-07 - val_accuracy: 0.4317\n",
            "Epoch 159/200\n",
            "250/250 [==============================] - 1s 3ms/step - loss: 3.9826e-07 - accuracy: 0.4065 - val_loss: 3.8164e-07 - val_accuracy: 0.4317\n",
            "Epoch 160/200\n",
            "250/250 [==============================] - 1s 3ms/step - loss: 3.9826e-07 - accuracy: 0.4065 - val_loss: 3.8164e-07 - val_accuracy: 0.4317\n",
            "Epoch 161/200\n",
            "250/250 [==============================] - 1s 3ms/step - loss: 3.9826e-07 - accuracy: 0.4065 - val_loss: 3.8164e-07 - val_accuracy: 0.4317\n",
            "Epoch 162/200\n",
            "250/250 [==============================] - 1s 3ms/step - loss: 3.9826e-07 - accuracy: 0.4065 - val_loss: 3.8164e-07 - val_accuracy: 0.4317\n",
            "Epoch 163/200\n",
            "250/250 [==============================] - 1s 3ms/step - loss: 3.9826e-07 - accuracy: 0.4065 - val_loss: 3.8164e-07 - val_accuracy: 0.4317\n",
            "Epoch 164/200\n",
            "250/250 [==============================] - 1s 3ms/step - loss: 3.9826e-07 - accuracy: 0.4065 - val_loss: 3.8164e-07 - val_accuracy: 0.4317\n",
            "Epoch 165/200\n",
            "250/250 [==============================] - 1s 3ms/step - loss: 3.9826e-07 - accuracy: 0.4065 - val_loss: 3.8164e-07 - val_accuracy: 0.4317\n",
            "Epoch 166/200\n",
            "250/250 [==============================] - 1s 3ms/step - loss: 3.9826e-07 - accuracy: 0.4065 - val_loss: 3.8164e-07 - val_accuracy: 0.4317\n",
            "Epoch 167/200\n",
            "250/250 [==============================] - 1s 3ms/step - loss: 3.9826e-07 - accuracy: 0.4065 - val_loss: 3.8164e-07 - val_accuracy: 0.4317\n",
            "Epoch 168/200\n",
            "250/250 [==============================] - 1s 3ms/step - loss: 3.9826e-07 - accuracy: 0.4065 - val_loss: 3.8164e-07 - val_accuracy: 0.4317\n",
            "Epoch 169/200\n",
            "250/250 [==============================] - 1s 3ms/step - loss: 3.9826e-07 - accuracy: 0.4065 - val_loss: 3.8164e-07 - val_accuracy: 0.4317\n",
            "Epoch 170/200\n",
            "250/250 [==============================] - 1s 3ms/step - loss: 3.9826e-07 - accuracy: 0.4065 - val_loss: 3.8164e-07 - val_accuracy: 0.4317\n",
            "Epoch 171/200\n",
            "250/250 [==============================] - 1s 3ms/step - loss: 3.9826e-07 - accuracy: 0.4065 - val_loss: 3.8164e-07 - val_accuracy: 0.4317\n",
            "Epoch 172/200\n",
            "250/250 [==============================] - 1s 3ms/step - loss: 3.9826e-07 - accuracy: 0.4065 - val_loss: 3.8164e-07 - val_accuracy: 0.4317\n",
            "Epoch 173/200\n",
            "250/250 [==============================] - 1s 3ms/step - loss: 3.9826e-07 - accuracy: 0.4065 - val_loss: 3.8164e-07 - val_accuracy: 0.4317\n",
            "Epoch 174/200\n",
            "250/250 [==============================] - 1s 3ms/step - loss: 3.9826e-07 - accuracy: 0.4065 - val_loss: 3.8164e-07 - val_accuracy: 0.4317\n",
            "Epoch 175/200\n",
            "250/250 [==============================] - 1s 3ms/step - loss: 3.9826e-07 - accuracy: 0.4065 - val_loss: 3.8164e-07 - val_accuracy: 0.4317\n",
            "Epoch 176/200\n",
            "250/250 [==============================] - 1s 3ms/step - loss: 3.9826e-07 - accuracy: 0.4065 - val_loss: 3.8164e-07 - val_accuracy: 0.4317\n",
            "Epoch 177/200\n",
            "250/250 [==============================] - 1s 3ms/step - loss: 3.9826e-07 - accuracy: 0.4065 - val_loss: 3.8164e-07 - val_accuracy: 0.4317\n",
            "Epoch 178/200\n",
            "250/250 [==============================] - 1s 3ms/step - loss: 3.9826e-07 - accuracy: 0.4065 - val_loss: 3.8164e-07 - val_accuracy: 0.4317\n",
            "Epoch 179/200\n",
            "250/250 [==============================] - 1s 3ms/step - loss: 3.9826e-07 - accuracy: 0.4065 - val_loss: 3.8164e-07 - val_accuracy: 0.4317\n",
            "Epoch 180/200\n",
            "250/250 [==============================] - 1s 3ms/step - loss: 3.9826e-07 - accuracy: 0.4065 - val_loss: 3.8164e-07 - val_accuracy: 0.4317\n",
            "Epoch 181/200\n",
            "250/250 [==============================] - 1s 3ms/step - loss: 3.9826e-07 - accuracy: 0.4065 - val_loss: 3.8164e-07 - val_accuracy: 0.4317\n",
            "Epoch 182/200\n",
            "250/250 [==============================] - 1s 3ms/step - loss: 3.9826e-07 - accuracy: 0.4065 - val_loss: 3.8164e-07 - val_accuracy: 0.4317\n",
            "Epoch 183/200\n",
            "250/250 [==============================] - 1s 3ms/step - loss: 3.9826e-07 - accuracy: 0.4065 - val_loss: 3.8164e-07 - val_accuracy: 0.4317\n",
            "Epoch 184/200\n",
            "250/250 [==============================] - 1s 3ms/step - loss: 3.9826e-07 - accuracy: 0.4065 - val_loss: 3.8164e-07 - val_accuracy: 0.4317\n",
            "Epoch 185/200\n",
            "250/250 [==============================] - 1s 3ms/step - loss: 3.9826e-07 - accuracy: 0.4065 - val_loss: 3.8164e-07 - val_accuracy: 0.4317\n",
            "Epoch 186/200\n",
            "250/250 [==============================] - 1s 3ms/step - loss: 3.9826e-07 - accuracy: 0.4065 - val_loss: 3.8164e-07 - val_accuracy: 0.4317\n",
            "Epoch 187/200\n",
            "250/250 [==============================] - 1s 3ms/step - loss: 3.9826e-07 - accuracy: 0.4065 - val_loss: 3.8164e-07 - val_accuracy: 0.4317\n",
            "Epoch 188/200\n",
            "250/250 [==============================] - 1s 3ms/step - loss: 3.9826e-07 - accuracy: 0.4065 - val_loss: 3.8164e-07 - val_accuracy: 0.4317\n",
            "Epoch 189/200\n",
            "250/250 [==============================] - 1s 3ms/step - loss: 3.9826e-07 - accuracy: 0.4065 - val_loss: 3.8164e-07 - val_accuracy: 0.4317\n",
            "Epoch 190/200\n",
            "250/250 [==============================] - 1s 3ms/step - loss: 3.9826e-07 - accuracy: 0.4065 - val_loss: 3.8164e-07 - val_accuracy: 0.4317\n",
            "Epoch 191/200\n",
            "250/250 [==============================] - 1s 3ms/step - loss: 3.9826e-07 - accuracy: 0.4065 - val_loss: 3.8164e-07 - val_accuracy: 0.4317\n",
            "Epoch 192/200\n",
            "250/250 [==============================] - 1s 3ms/step - loss: 3.9826e-07 - accuracy: 0.4065 - val_loss: 3.8164e-07 - val_accuracy: 0.4317\n",
            "Epoch 193/200\n",
            "250/250 [==============================] - 1s 3ms/step - loss: 3.9826e-07 - accuracy: 0.4065 - val_loss: 3.8164e-07 - val_accuracy: 0.4317\n",
            "Epoch 194/200\n",
            "250/250 [==============================] - 1s 3ms/step - loss: 3.9826e-07 - accuracy: 0.4065 - val_loss: 3.8164e-07 - val_accuracy: 0.4317\n",
            "Epoch 195/200\n",
            "250/250 [==============================] - 1s 3ms/step - loss: 3.9826e-07 - accuracy: 0.4065 - val_loss: 3.8164e-07 - val_accuracy: 0.4317\n",
            "Epoch 196/200\n",
            "250/250 [==============================] - 1s 3ms/step - loss: 3.9826e-07 - accuracy: 0.4065 - val_loss: 3.8164e-07 - val_accuracy: 0.4317\n",
            "Epoch 197/200\n",
            "250/250 [==============================] - 1s 3ms/step - loss: 3.9826e-07 - accuracy: 0.4065 - val_loss: 3.8164e-07 - val_accuracy: 0.4317\n",
            "Epoch 198/200\n",
            "250/250 [==============================] - 1s 3ms/step - loss: 3.9826e-07 - accuracy: 0.4065 - val_loss: 3.8164e-07 - val_accuracy: 0.4317\n",
            "Epoch 199/200\n",
            "250/250 [==============================] - 1s 3ms/step - loss: 3.9826e-07 - accuracy: 0.4065 - val_loss: 3.8164e-07 - val_accuracy: 0.4317\n",
            "Epoch 200/200\n",
            "250/250 [==============================] - 1s 3ms/step - loss: 3.9826e-07 - accuracy: 0.4065 - val_loss: 3.8164e-07 - val_accuracy: 0.4317\n",
            "Training took 202.33007645606995 seconds\n"
          ]
        }
      ],
      "source": [
        "import time\n",
        "t0 = time.time()\n",
        "\n",
        "NN_classification_history = NN_classification_model.fit(XC_train, # Training features\n",
        "          yc_train, # Training labels\n",
        "          epochs=200,   # We'll stop after 10 epochs\n",
        "          batch_size=10, # \n",
        "          validation_split=0.10, # Use 10% of data to evaluate the loss. (val_loss)\n",
        "          verbose=1, #\n",
        "          )\n",
        "print(\"Training took \"+str(time.time() - t0)+\" seconds\")"
      ]
    },
    {
      "cell_type": "code",
      "execution_count": null,
      "metadata": {
        "colab": {
          "background_save": true,
          "base_uri": "https://localhost:8080/"
        },
        "id": "6MGXdA-h1ET_",
        "outputId": "7d74838f-6a51-4353-d133-b402f03233f2"
      },
      "outputs": [
        {
          "data": {
            "text/plain": [
              "dict_keys(['loss', 'accuracy', 'val_loss', 'val_accuracy'])"
            ]
          },
          "execution_count": 25,
          "metadata": {},
          "output_type": "execute_result"
        }
      ],
      "source": [
        "NN_classification_history.history.keys()"
      ]
    },
    {
      "cell_type": "code",
      "execution_count": null,
      "metadata": {
        "colab": {
          "background_save": true,
          "base_uri": "https://localhost:8080/",
          "height": 276
        },
        "id": "fOBm2FEX1EUA",
        "outputId": "f78b638e-fb07-448d-b738-ddd49a7ec0ee"
      },
      "outputs": [
        {
          "data": {
            "image/png": "[encoded data removed]",
            "text/plain": [
              "<Figure size 432x288 with 1 Axes>"
            ]
          },
          "metadata": {},
          "output_type": "display_data"
        }
      ],
      "source": [
        "import matplotlib.pyplot as plt\n",
        "plt.plot(NN_classification_history.history[\"loss\"])\n",
        "plt.show()"
      ]
    },
    {
      "cell_type": "markdown",
      "metadata": {
        "id": "2jPAzJPU1tPE"
      },
      "source": [
        "####Save model"
      ]
    },
    {
      "cell_type": "code",
      "execution_count": null,
      "metadata": {
        "colab": {
          "background_save": true
        },
        "id": "hVpjV2UL1tPW"
      },
      "outputs": [],
      "source": [
        "NN_classification_model.save(\"Optimal_Scheduling_Classification.h5\")"
      ]
    },
    {
      "cell_type": "code",
      "execution_count": null,
      "metadata": {
        "colab": {
          "background_save": true
        },
        "id": "GJLJelmb1tPW"
      },
      "outputs": [],
      "source": [
        "NN_classification_model.save(\"Optimal_Scheduling_Classification.model\")"
      ]
    },
    {
      "cell_type": "markdown",
      "metadata": {
        "id": "3c4NiQFx134Q"
      },
      "source": [
        "####Test model\n"
      ]
    },
    {
      "cell_type": "code",
      "execution_count": null,
      "metadata": {
        "colab": {
          "background_save": true
        },
        "id": "PzOP-N4D134R"
      },
      "outputs": [],
      "source": [
        "from sklearn.metrics import fbeta_score\n",
        "from sklearn.metrics import confusion_matrix, recall_score, precision_score\n",
        "\n",
        "y_pred = (NN_classification_model.predict(XC_test) > 0.5).astype(\"int32\")"
      ]
    },
    {
      "cell_type": "code",
      "execution_count": null,
      "metadata": {
        "colab": {
          "background_save": true,
          "base_uri": "https://localhost:8080/"
        },
        "id": "qyXrApuFFTeT",
        "outputId": "0d881f16-99ba-4f6d-f7da-2ce1b5a04dea"
      },
      "outputs": [
        {
          "data": {
            "text/plain": [
              "array([[0],\n",
              "       [0],\n",
              "       [0],\n",
              "       ...,\n",
              "       [0],\n",
              "       [0],\n",
              "       [0]], dtype=int32)"
            ]
          },
          "execution_count": 30,
          "metadata": {},
          "output_type": "execute_result"
        }
      ],
      "source": [
        "y_pred"
      ]
    },
    {
      "cell_type": "code",
      "execution_count": null,
      "metadata": {
        "colab": {
          "background_save": true,
          "base_uri": "https://localhost:8080/"
        },
        "id": "zdBE5Rb_134S",
        "outputId": "59ddca3a-6891-421f-c2f3-737555b839a6"
      },
      "outputs": [
        {
          "name": "stdout",
          "output_type": "stream",
          "text": [
            "Neural Network Confusion matrix\n",
            "- x-axis is true labels.\n",
            "- y-axis is predicted labels\n"
          ]
        },
        {
          "data": {
            "text/plain": [
              "array([[531,   7,   0,   0,   0,   0,   0,   0,   0,   0,   0,   0,   0],\n",
              "       [  0,   0,   0,   0,   0,   0,   0,   0,   0,   0,   0,   0,   0],\n",
              "       [ 23,   0,   0,   0,   0,   0,   0,   0,   0,   0,   0,   0,   0],\n",
              "       [ 14,   0,   0,   0,   0,   0,   0,   0,   0,   0,   0,   0,   0],\n",
              "       [299,   0,   0,   0,   0,   0,   0,   0,   0,   0,   0,   0,   0],\n",
              "       [ 78,   0,   0,   0,   0,   0,   0,   0,   0,   0,   0,   0,   0],\n",
              "       [180,   0,   0,   0,   0,   0,   0,   0,   0,   0,   0,   0,   0],\n",
              "       [ 47,  36,   0,   0,   0,   0,   0,   0,   0,   0,   0,   0,   0],\n",
              "       [ 32,   0,   0,   0,   0,   0,   0,   0,   0,   0,   0,   0,   0],\n",
              "       [  1,   0,   0,   0,   0,   0,   0,   0,   0,   0,   0,   0,   0],\n",
              "       [100,   0,   0,   0,   0,   0,   0,   0,   0,   0,   0,   0,   0],\n",
              "       [ 18,   0,   0,   0,   0,   0,   0,   0,   0,   0,   0,   0,   0],\n",
              "       [  1,   0,   0,   0,   0,   0,   0,   0,   0,   0,   0,   0,   0]])"
            ]
          },
          "execution_count": 31,
          "metadata": {},
          "output_type": "execute_result"
        }
      ],
      "source": [
        "y_true = yc_test\n",
        "print('Neural Network Confusion matrix\\n- x-axis is true labels.\\n- y-axis is predicted labels')\n",
        "cm = confusion_matrix(y_true, y_pred)\n",
        "cm"
      ]
    },
    {
      "cell_type": "code",
      "execution_count": null,
      "metadata": {
        "colab": {
          "background_save": true,
          "base_uri": "https://localhost:8080/"
        },
        "id": "P60eYxW_134T",
        "outputId": "6093ce50-488b-4102-946d-7c0485a2eb5c"
      },
      "outputs": [
        {
          "name": "stdout",
          "output_type": "stream",
          "text": [
            "              precision    recall  f1-score   support\n",
            "\n",
            "           0       0.40      0.99      0.57       538\n",
            "           1       0.00      0.00      0.00         0\n",
            "           2       0.00      0.00      0.00        23\n",
            "           3       0.00      0.00      0.00        14\n",
            "           4       0.00      0.00      0.00       299\n",
            "           5       0.00      0.00      0.00        78\n",
            "           6       0.00      0.00      0.00       180\n",
            "           7       0.00      0.00      0.00        83\n",
            "           8       0.00      0.00      0.00        32\n",
            "           9       0.00      0.00      0.00         1\n",
            "          10       0.00      0.00      0.00       100\n",
            "          11       0.00      0.00      0.00        18\n",
            "          12       0.00      0.00      0.00         1\n",
            "\n",
            "    accuracy                           0.39      1367\n",
            "   macro avg       0.03      0.08      0.04      1367\n",
            "weighted avg       0.16      0.39      0.22      1367\n",
            "\n"
          ]
        },
        {
          "name": "stderr",
          "output_type": "stream",
          "text": [
            "/usr/local/lib/python3.7/dist-packages/sklearn/metrics/_classification.py:1318: UndefinedMetricWarning: Precision and F-score are ill-defined and being set to 0.0 in labels with no predicted samples. Use `zero_division` parameter to control this behavior.\n",
            "  _warn_prf(average, modifier, msg_start, len(result))\n",
            "/usr/local/lib/python3.7/dist-packages/sklearn/metrics/_classification.py:1318: UndefinedMetricWarning: Recall and F-score are ill-defined and being set to 0.0 in labels with no true samples. Use `zero_division` parameter to control this behavior.\n",
            "  _warn_prf(average, modifier, msg_start, len(result))\n",
            "/usr/local/lib/python3.7/dist-packages/sklearn/metrics/_classification.py:1318: UndefinedMetricWarning: Precision and F-score are ill-defined and being set to 0.0 in labels with no predicted samples. Use `zero_division` parameter to control this behavior.\n",
            "  _warn_prf(average, modifier, msg_start, len(result))\n",
            "/usr/local/lib/python3.7/dist-packages/sklearn/metrics/_classification.py:1318: UndefinedMetricWarning: Recall and F-score are ill-defined and being set to 0.0 in labels with no true samples. Use `zero_division` parameter to control this behavior.\n",
            "  _warn_prf(average, modifier, msg_start, len(result))\n",
            "/usr/local/lib/python3.7/dist-packages/sklearn/metrics/_classification.py:1318: UndefinedMetricWarning: Precision and F-score are ill-defined and being set to 0.0 in labels with no predicted samples. Use `zero_division` parameter to control this behavior.\n",
            "  _warn_prf(average, modifier, msg_start, len(result))\n",
            "/usr/local/lib/python3.7/dist-packages/sklearn/metrics/_classification.py:1318: UndefinedMetricWarning: Recall and F-score are ill-defined and being set to 0.0 in labels with no true samples. Use `zero_division` parameter to control this behavior.\n",
            "  _warn_prf(average, modifier, msg_start, len(result))\n"
          ]
        }
      ],
      "source": [
        "from sklearn import metrics\n",
        "print(metrics.classification_report(yc_test, y_pred))"
      ]
    },
    {
      "cell_type": "markdown",
      "metadata": {
        "id": "brHHv-QET768"
      },
      "source": [
        "###Decision Tree Regressor"
      ]
    },
    {
      "cell_type": "code",
      "execution_count": null,
      "metadata": {
        "colab": {
          "background_save": true
        },
        "id": "V7M0mpg1T7cO"
      },
      "outputs": [],
      "source": [
        "from sklearn.tree import DecisionTreeRegressor"
      ]
    },
    {
      "cell_type": "markdown",
      "metadata": {
        "id": "ZBDSeX5sFT65"
      },
      "source": [
        "####Train model"
      ]
    },
    {
      "cell_type": "code",
      "execution_count": null,
      "metadata": {
        "colab": {
          "background_save": true,
          "base_uri": "https://localhost:8080/"
        },
        "id": "ijBG8TmXF30H",
        "outputId": "f70ff645-a09a-408a-8fd0-e6569eb05e13"
      },
      "outputs": [
        {
          "name": "stdout",
          "output_type": "stream",
          "text": [
            "Training took 0.010987997055053711 seconds\n"
          ]
        }
      ],
      "source": [
        "DTR_model = DecisionTreeRegressor()\n",
        "import time\n",
        "t0 = time.time()\n",
        "DTR_model.fit(XR_train, yr_train)\n",
        "print(\"Training took \"+str(time.time() - t0)+\" seconds\")"
      ]
    },
    {
      "cell_type": "code",
      "execution_count": null,
      "metadata": {
        "colab": {
          "background_save": true
        },
        "id": "cuEBRsuBUM8D"
      },
      "outputs": [],
      "source": []
    },
    {
      "cell_type": "markdown",
      "metadata": {
        "id": "bFQhT93qGRNU"
      },
      "source": [
        "####Test model"
      ]
    },
    {
      "cell_type": "code",
      "execution_count": null,
      "metadata": {
        "colab": {
          "background_save": true
        },
        "id": "vvR0U2vkGRNU"
      },
      "outputs": [],
      "source": [
        "# make predictions for test data\n",
        "DTR_predictions = DTR_model.predict(XR_test)"
      ]
    },
    {
      "cell_type": "code",
      "execution_count": null,
      "metadata": {
        "colab": {
          "background_save": true,
          "base_uri": "https://localhost:8080/"
        },
        "id": "95RLWtIbFeQT",
        "outputId": "a6752c35-71ab-44e6-aa4e-6a9b54f49867"
      },
      "outputs": [
        {
          "data": {
            "text/plain": [
              "array([1.        , 1.5022245 , 1.62006273, ..., 1.        , 1.86892436,\n",
              "       4.38017881])"
            ]
          },
          "execution_count": 36,
          "metadata": {},
          "output_type": "execute_result"
        }
      ],
      "source": [
        "DTR_predictions"
      ]
    },
    {
      "cell_type": "code",
      "execution_count": null,
      "metadata": {
        "colab": {
          "background_save": true
        },
        "id": "tJZDC206UjsV"
      },
      "outputs": [],
      "source": []
    },
    {
      "cell_type": "markdown",
      "metadata": {
        "id": "Xrecx-f-2Y91"
      },
      "source": [
        "###Decision Tree Classifier"
      ]
    },
    {
      "cell_type": "code",
      "execution_count": null,
      "metadata": {
        "colab": {
          "background_save": true
        },
        "id": "zqjRA9_s2Y-G"
      },
      "outputs": [],
      "source": [
        "from sklearn.tree import DecisionTreeClassifier"
      ]
    },
    {
      "cell_type": "markdown",
      "metadata": {
        "id": "ujIFy2o52Y-H"
      },
      "source": [
        "####Train model"
      ]
    },
    {
      "cell_type": "code",
      "execution_count": null,
      "metadata": {
        "colab": {
          "background_save": true,
          "base_uri": "https://localhost:8080/"
        },
        "id": "MgK4XYeK2Y-H",
        "outputId": "9219ba64-6078-455e-cb8b-59ac8b52f618"
      },
      "outputs": [
        {
          "name": "stdout",
          "output_type": "stream",
          "text": [
            "Training took 0.008457422256469727 seconds\n"
          ]
        }
      ],
      "source": [
        "DTC_model = DecisionTreeClassifier()\n",
        "import time\n",
        "t0 = time.time()\n",
        "DTC_model.fit(XC_train, yc_train)\n",
        "print(\"Training took \"+str(time.time() - t0)+\" seconds\")"
      ]
    },
    {
      "cell_type": "code",
      "execution_count": null,
      "metadata": {
        "colab": {
          "background_save": true
        },
        "id": "e_ocmBCo2Y-I"
      },
      "outputs": [],
      "source": []
    },
    {
      "cell_type": "markdown",
      "metadata": {
        "id": "idYbqDHq2Y-I"
      },
      "source": [
        "####Test model"
      ]
    },
    {
      "cell_type": "code",
      "execution_count": null,
      "metadata": {
        "colab": {
          "background_save": true
        },
        "id": "OoHQjtFu2Y-I"
      },
      "outputs": [],
      "source": [
        "# make predictions for test data\n",
        "y_pred = DTC_model.predict(XC_test)\n",
        "DTC_predictions = [round(value) for value in y_pred]"
      ]
    },
    {
      "cell_type": "code",
      "execution_count": null,
      "metadata": {
        "colab": {
          "background_save": true,
          "base_uri": "https://localhost:8080/"
        },
        "id": "QzlJCd1V2Y-J",
        "outputId": "7018cf09-0189-43ca-ff00-f5ab391eaf8d"
      },
      "outputs": [
        {
          "name": "stdout",
          "output_type": "stream",
          "text": [
            "Decion tree Test accuracy: 99.56%\n"
          ]
        }
      ],
      "source": [
        "from sklearn.metrics import accuracy_score\n",
        "# evaluate predictions\n",
        "accuracy = accuracy_score(yc_test, DTC_predictions)\n",
        "print(\"Decion tree Test accuracy: %.2f%%\" % (accuracy * 100.0))"
      ]
    },
    {
      "cell_type": "code",
      "execution_count": null,
      "metadata": {
        "colab": {
          "background_save": true,
          "base_uri": "https://localhost:8080/"
        },
        "id": "XaRftZMN2Y-J",
        "outputId": "c6d1bc69-5ee4-4566-fa1f-d3847907cce4"
      },
      "outputs": [
        {
          "name": "stdout",
          "output_type": "stream",
          "text": [
            "Decision tree Confusion matrix\n",
            "- x-axis is true labels.\n",
            "- y-axis is predicted labels\n"
          ]
        },
        {
          "data": {
            "text/plain": [
              "array([[538,   0,   0,   0,   0,   0,   0,   0,   0,   0,   0,   0],\n",
              "       [  0,  23,   0,   0,   0,   0,   0,   0,   0,   0,   0,   0],\n",
              "       [  0,   0,  14,   0,   0,   0,   0,   0,   0,   0,   0,   0],\n",
              "       [  0,   0,   0, 297,   0,   0,   0,   1,   0,   0,   1,   0],\n",
              "       [  0,   0,   0,   0,  78,   0,   0,   0,   0,   0,   0,   0],\n",
              "       [  0,   0,   0,   0,   0, 180,   0,   0,   0,   0,   0,   0],\n",
              "       [  0,   0,   0,   0,   0,   0,  83,   0,   0,   0,   0,   0],\n",
              "       [  0,   1,   0,   0,   0,   0,   0,  31,   0,   0,   0,   0],\n",
              "       [  1,   0,   0,   0,   0,   0,   0,   0,   0,   0,   0,   0],\n",
              "       [  0,   0,   0,   0,   0,   0,   0,   0,   0,  99,   1,   0],\n",
              "       [  0,   0,   0,   0,   0,   0,   0,   0,   0,   0,  18,   0],\n",
              "       [  1,   0,   0,   0,   0,   0,   0,   0,   0,   0,   0,   0]])"
            ]
          },
          "execution_count": 41,
          "metadata": {},
          "output_type": "execute_result"
        }
      ],
      "source": [
        "y_true = yc_test\n",
        "print('Decision tree Confusion matrix\\n- x-axis is true labels.\\n- y-axis is predicted labels')\n",
        "cm = confusion_matrix(y_true, DTC_predictions)\n",
        "cm"
      ]
    },
    {
      "cell_type": "code",
      "execution_count": null,
      "metadata": {
        "colab": {
          "background_save": true,
          "base_uri": "https://localhost:8080/"
        },
        "id": "oiBRdy9f2Y-J",
        "outputId": "42b0e607-0c6f-4e63-804d-87e9163dcc3e"
      },
      "outputs": [
        {
          "name": "stdout",
          "output_type": "stream",
          "text": [
            "              precision    recall  f1-score   support\n",
            "\n",
            "           0       1.00      1.00      1.00       538\n",
            "           2       0.96      1.00      0.98        23\n",
            "           3       1.00      1.00      1.00        14\n",
            "           4       1.00      0.99      1.00       299\n",
            "           5       1.00      1.00      1.00        78\n",
            "           6       1.00      1.00      1.00       180\n",
            "           7       1.00      1.00      1.00        83\n",
            "           8       0.97      0.97      0.97        32\n",
            "           9       0.00      0.00      0.00         1\n",
            "          10       1.00      0.99      0.99       100\n",
            "          11       0.90      1.00      0.95        18\n",
            "          12       0.00      0.00      0.00         1\n",
            "\n",
            "    accuracy                           1.00      1367\n",
            "   macro avg       0.82      0.83      0.82      1367\n",
            "weighted avg       0.99      1.00      0.99      1367\n",
            "\n"
          ]
        },
        {
          "name": "stderr",
          "output_type": "stream",
          "text": [
            "/usr/local/lib/python3.7/dist-packages/sklearn/metrics/_classification.py:1318: UndefinedMetricWarning: Precision and F-score are ill-defined and being set to 0.0 in labels with no predicted samples. Use `zero_division` parameter to control this behavior.\n",
            "  _warn_prf(average, modifier, msg_start, len(result))\n",
            "/usr/local/lib/python3.7/dist-packages/sklearn/metrics/_classification.py:1318: UndefinedMetricWarning: Precision and F-score are ill-defined and being set to 0.0 in labels with no predicted samples. Use `zero_division` parameter to control this behavior.\n",
            "  _warn_prf(average, modifier, msg_start, len(result))\n",
            "/usr/local/lib/python3.7/dist-packages/sklearn/metrics/_classification.py:1318: UndefinedMetricWarning: Precision and F-score are ill-defined and being set to 0.0 in labels with no predicted samples. Use `zero_division` parameter to control this behavior.\n",
            "  _warn_prf(average, modifier, msg_start, len(result))\n"
          ]
        }
      ],
      "source": [
        "from sklearn import metrics\n",
        "print(metrics.classification_report(yc_test, y_pred))"
      ]
    },
    {
      "cell_type": "code",
      "execution_count": null,
      "metadata": {
        "colab": {
          "background_save": true
        },
        "id": "ylX2d0lW2Y-K"
      },
      "outputs": [],
      "source": []
    },
    {
      "cell_type": "markdown",
      "metadata": {
        "id": "Rbz4VgzyE5Hu"
      },
      "source": [
        "###Gradient Boosting machine | Regressor"
      ]
    },
    {
      "cell_type": "code",
      "execution_count": null,
      "metadata": {
        "colab": {
          "background_save": true
        },
        "id": "VoRy9RC6E4j5"
      },
      "outputs": [],
      "source": [
        "from xgboost import XGBRegressor"
      ]
    },
    {
      "cell_type": "markdown",
      "metadata": {
        "id": "MFz19KrOFWP5"
      },
      "source": [
        "####Train model"
      ]
    },
    {
      "cell_type": "code",
      "execution_count": null,
      "metadata": {
        "colab": {
          "background_save": true,
          "base_uri": "https://localhost:8080/"
        },
        "id": "8F89VdMsFA7V",
        "outputId": "91b0beba-d604-454a-98ea-7544124e1fe5"
      },
      "outputs": [
        {
          "name": "stdout",
          "output_type": "stream",
          "text": [
            "[12:22:38] WARNING: /workspace/src/objective/regression_obj.cu:152: reg:linear is now deprecated in favor of reg:squarederror.\n",
            "Training took 0.45526671409606934 seconds\n"
          ]
        }
      ],
      "source": [
        "# fit model no training data\n",
        "XGBR_model = XGBRegressor()\n",
        "import time\n",
        "t0 = time.time()\n",
        "XGBR_model.fit(XR_train, yr_train)\n",
        "print(\"Training took \"+str(time.time() - t0)+\" seconds\")"
      ]
    },
    {
      "cell_type": "markdown",
      "metadata": {
        "id": "kXyzhZ3uFSpF"
      },
      "source": [
        "####Test model"
      ]
    },
    {
      "cell_type": "code",
      "execution_count": null,
      "metadata": {
        "colab": {
          "background_save": true
        },
        "id": "HqE63eewFR40"
      },
      "outputs": [],
      "source": [
        "# make predictions for test data\n",
        "y_pred = XGBR_model.predict(XR_test)"
      ]
    },
    {
      "cell_type": "code",
      "execution_count": null,
      "metadata": {
        "colab": {
          "background_save": true,
          "base_uri": "https://localhost:8080/"
        },
        "id": "VA9INkvFGVdh",
        "outputId": "7b34c487-852d-4b26-bb0f-d493573875da"
      },
      "outputs": [
        {
          "data": {
            "text/plain": [
              "array([1.0037758, 1.5994779, 1.6040826, ..., 1.0022085, 1.8299105,\n",
              "       4.2918715], dtype=float32)"
            ]
          },
          "execution_count": 46,
          "metadata": {},
          "output_type": "execute_result"
        }
      ],
      "source": [
        "y_pred"
      ]
    },
    {
      "cell_type": "code",
      "execution_count": null,
      "metadata": {
        "colab": {
          "background_save": true,
          "base_uri": "https://localhost:8080/",
          "height": 424
        },
        "id": "AKVAvL2_GaAc",
        "outputId": "43d53fc3-9f4c-4680-ea7c-361f5fd1ae83"
      },
      "outputs": [
        {
          "data": {
            "text/html": [
              "\n",
              "  <div id=\"df-ecdc4223-5e22-4256-b9f5-63f7d82a93b2\">\n",
              "    <div class=\"colab-df-container\">\n",
              "      <div>\n",
              "<style scoped>\n",
              "    .dataframe tbody tr th:only-of-type {\n",
              "        vertical-align: middle;\n",
              "    }\n",
              "\n",
              "    .dataframe tbody tr th {\n",
              "        vertical-align: top;\n",
              "    }\n",
              "\n",
              "    .dataframe thead th {\n",
              "        text-align: right;\n",
              "    }\n",
              "</style>\n",
              "<table border=\"1\" class=\"dataframe\">\n",
              "  <thead>\n",
              "    <tr style=\"text-align: right;\">\n",
              "      <th></th>\n",
              "      <th>Output power (MW)</th>\n",
              "    </tr>\n",
              "  </thead>\n",
              "  <tbody>\n",
              "    <tr>\n",
              "      <th>2351</th>\n",
              "      <td>1.000000</td>\n",
              "    </tr>\n",
              "    <tr>\n",
              "      <th>1966</th>\n",
              "      <td>1.501902</td>\n",
              "    </tr>\n",
              "    <tr>\n",
              "      <th>1582</th>\n",
              "      <td>1.619953</td>\n",
              "    </tr>\n",
              "    <tr>\n",
              "      <th>296</th>\n",
              "      <td>6.372317</td>\n",
              "    </tr>\n",
              "    <tr>\n",
              "      <th>149</th>\n",
              "      <td>1.000000</td>\n",
              "    </tr>\n",
              "    <tr>\n",
              "      <th>...</th>\n",
              "      <td>...</td>\n",
              "    </tr>\n",
              "    <tr>\n",
              "      <th>1427</th>\n",
              "      <td>1.839589</td>\n",
              "    </tr>\n",
              "    <tr>\n",
              "      <th>2304</th>\n",
              "      <td>1.000000</td>\n",
              "    </tr>\n",
              "    <tr>\n",
              "      <th>3966</th>\n",
              "      <td>1.000000</td>\n",
              "    </tr>\n",
              "    <tr>\n",
              "      <th>1413</th>\n",
              "      <td>1.870826</td>\n",
              "    </tr>\n",
              "    <tr>\n",
              "      <th>859</th>\n",
              "      <td>4.377234</td>\n",
              "    </tr>\n",
              "  </tbody>\n",
              "</table>\n",
              "<p>1367 rows × 1 columns</p>\n",
              "</div>\n",
              "      <button class=\"colab-df-convert\" onclick=\"convertToInteractive('df-ecdc4223-5e22-4256-b9f5-63f7d82a93b2')\"\n",
              "              title=\"Convert this dataframe to an interactive table.\"\n",
              "              style=\"display:none;\">\n",
              "        \n",
              "  <svg xmlns=\"http://www.w3.org/2000/svg\" height=\"24px\"viewBox=\"0 0 24 24\"\n",
              "       width=\"24px\">\n",
              "    <path d=\"M0 0h24v24H0V0z\" fill=\"none\"/>\n",
              "    <path d=\"M18.56 5.44l.94 2.06.94-2.06 2.06-.94-2.06-.94-.94-2.06-.94 2.06-2.06.94zm-11 1L8.5 8.5l.94-2.06 2.06-.94-2.06-.94L8.5 2.5l-.94 2.06-2.06.94zm10 10l.94 2.06.94-2.06 2.06-.94-2.06-.94-.94-2.06-.94 2.06-2.06.94z\"/><path d=\"M17.41 7.96l-1.37-1.37c-.4-.4-.92-.59-1.43-.59-.52 0-1.04.2-1.43.59L10.3 9.45l-7.72 7.72c-.78.78-.78 2.05 0 2.83L4 21.41c.39.39.9.59 1.41.59.51 0 1.02-.2 1.41-.59l7.78-7.78 2.81-2.81c.8-.78.8-2.07 0-2.86zM5.41 20L4 18.59l7.72-7.72 1.47 1.35L5.41 20z\"/>\n",
              "  </svg>\n",
              "      </button>\n",
              "      \n",
              "  <style>\n",
              "    .colab-df-container {\n",
              "      display:flex;\n",
              "      flex-wrap:wrap;\n",
              "      gap: 12px;\n",
              "    }\n",
              "\n",
              "    .colab-df-convert {\n",
              "      background-color: #E8F0FE;\n",
              "      border: none;\n",
              "      border-radius: 50%;\n",
              "      cursor: pointer;\n",
              "      display: none;\n",
              "      fill: #1967D2;\n",
              "      height: 32px;\n",
              "      padding: 0 0 0 0;\n",
              "      width: 32px;\n",
              "    }\n",
              "\n",
              "    .colab-df-convert:hover {\n",
              "      background-color: #E2EBFA;\n",
              "      box-shadow: 0px 1px 2px rgba(60, 64, 67, 0.3), 0px 1px 3px 1px rgba(60, 64, 67, 0.15);\n",
              "      fill: #174EA6;\n",
              "    }\n",
              "\n",
              "    [theme=dark] .colab-df-convert {\n",
              "      background-color: #3B4455;\n",
              "      fill: #D2E3FC;\n",
              "    }\n",
              "\n",
              "    [theme=dark] .colab-df-convert:hover {\n",
              "      background-color: #434B5C;\n",
              "      box-shadow: 0px 1px 3px 1px rgba(0, 0, 0, 0.15);\n",
              "      filter: drop-shadow(0px 1px 2px rgba(0, 0, 0, 0.3));\n",
              "      fill: #FFFFFF;\n",
              "    }\n",
              "  </style>\n",
              "\n",
              "      <script>\n",
              "        const buttonEl =\n",
              "          document.querySelector('#df-ecdc4223-5e22-4256-b9f5-63f7d82a93b2 button.colab-df-convert');\n",
              "        buttonEl.style.display =\n",
              "          google.colab.kernel.accessAllowed ? 'block' : 'none';\n",
              "\n",
              "        async function convertToInteractive(key) {\n",
              "          const element = document.querySelector('#df-ecdc4223-5e22-4256-b9f5-63f7d82a93b2');\n",
              "          const dataTable =\n",
              "            await google.colab.kernel.invokeFunction('convertToInteractive',\n",
              "                                                     [key], {});\n",
              "          if (!dataTable) return;\n",
              "\n",
              "          const docLinkHtml = 'Like what you see? Visit the ' +\n",
              "            '<a target=\"_blank\" href=https://colab.research.google.com/notebooks/data_table.ipynb>data table notebook</a>'\n",
              "            + ' to learn more about interactive tables.';\n",
              "          element.innerHTML = '';\n",
              "          dataTable['output_type'] = 'display_data';\n",
              "          await google.colab.output.renderOutput(dataTable, element);\n",
              "          const docLink = document.createElement('div');\n",
              "          docLink.innerHTML = docLinkHtml;\n",
              "          element.appendChild(docLink);\n",
              "        }\n",
              "      </script>\n",
              "    </div>\n",
              "  </div>\n",
              "  "
            ],
            "text/plain": [
              "      Output power (MW)\n",
              "2351           1.000000\n",
              "1966           1.501902\n",
              "1582           1.619953\n",
              "296            6.372317\n",
              "149            1.000000\n",
              "...                 ...\n",
              "1427           1.839589\n",
              "2304           1.000000\n",
              "3966           1.000000\n",
              "1413           1.870826\n",
              "859            4.377234\n",
              "\n",
              "[1367 rows x 1 columns]"
            ]
          },
          "execution_count": 47,
          "metadata": {},
          "output_type": "execute_result"
        }
      ],
      "source": [
        "yr_test"
      ]
    },
    {
      "cell_type": "code",
      "execution_count": null,
      "metadata": {
        "colab": {
          "background_save": true
        },
        "id": "_Y9fa-g_3r0Y"
      },
      "outputs": [],
      "source": []
    },
    {
      "cell_type": "markdown",
      "metadata": {
        "id": "6S-eBTSJ3r_B"
      },
      "source": [
        "###Gradient Boosting machine | Classifier"
      ]
    },
    {
      "cell_type": "code",
      "execution_count": null,
      "metadata": {
        "colab": {
          "background_save": true
        },
        "id": "iPFD2mAa3r_B"
      },
      "outputs": [],
      "source": [
        "from xgboost import XGBClassifier"
      ]
    },
    {
      "cell_type": "markdown",
      "metadata": {
        "id": "1W1IvteE3r_C"
      },
      "source": [
        "####Train model"
      ]
    },
    {
      "cell_type": "code",
      "execution_count": null,
      "metadata": {
        "colab": {
          "background_save": true,
          "base_uri": "https://localhost:8080/"
        },
        "id": "20VYW3Nc3r_C",
        "outputId": "553aa56b-2e37-4db1-978b-fb08dd5d8f3c"
      },
      "outputs": [
        {
          "name": "stderr",
          "output_type": "stream",
          "text": [
            "/usr/local/lib/python3.7/dist-packages/sklearn/preprocessing/_label.py:98: DataConversionWarning: A column-vector y was passed when a 1d array was expected. Please change the shape of y to (n_samples, ), for example using ravel().\n",
            "  y = column_or_1d(y, warn=True)\n",
            "/usr/local/lib/python3.7/dist-packages/sklearn/preprocessing/_label.py:133: DataConversionWarning: A column-vector y was passed when a 1d array was expected. Please change the shape of y to (n_samples, ), for example using ravel().\n",
            "  y = column_or_1d(y, warn=True)\n"
          ]
        },
        {
          "name": "stdout",
          "output_type": "stream",
          "text": [
            "Training took 0.6716763973236084 seconds\n"
          ]
        }
      ],
      "source": [
        "# fit model no training data\n",
        "XGBC_model = XGBClassifier()\n",
        "import time\n",
        "t0 = time.time()\n",
        "XGBC_model.fit(XC_train, yc_train)\n",
        "print(\"Training took \"+str(time.time() - t0)+\" seconds\")"
      ]
    },
    {
      "cell_type": "markdown",
      "metadata": {
        "id": "HVHvUVmk3r_C"
      },
      "source": [
        "####Test model"
      ]
    },
    {
      "cell_type": "code",
      "execution_count": null,
      "metadata": {
        "colab": {
          "background_save": true
        },
        "id": "p6AVs8jf3r_D"
      },
      "outputs": [],
      "source": [
        "# make predictions for test data\n",
        "y_pred = XGBC_model.predict(XC_test)\n",
        "predictions = [round(value) for value in y_pred]"
      ]
    },
    {
      "cell_type": "code",
      "execution_count": null,
      "metadata": {
        "colab": {
          "background_save": true,
          "base_uri": "https://localhost:8080/"
        },
        "id": "pVSCKP3E3r_D",
        "outputId": "a65634f7-1d74-4a6f-d804-37f681f67a62"
      },
      "outputs": [
        {
          "name": "stdout",
          "output_type": "stream",
          "text": [
            "XGB Classifier Test accuracy: 99.41%\n"
          ]
        }
      ],
      "source": [
        "# evaluate predictions\n",
        "accuracy = accuracy_score(yc_test, predictions)\n",
        "print(\"XGB Classifier Test accuracy: %.2f%%\" % (accuracy * 100.0))"
      ]
    },
    {
      "cell_type": "code",
      "execution_count": null,
      "metadata": {
        "colab": {
          "background_save": true,
          "base_uri": "https://localhost:8080/"
        },
        "id": "hLnJE6VI3r_D",
        "outputId": "fc385ba8-621e-4eff-f637-503fe8138197"
      },
      "outputs": [
        {
          "name": "stdout",
          "output_type": "stream",
          "text": [
            "XGB Classifier Confusion matrix\n",
            "- x-axis is true labels.\n",
            "- y-axis is predicted labels\n"
          ]
        },
        {
          "data": {
            "text/plain": [
              "array([[538,   0,   0,   0,   0,   0,   0,   0,   0,   0,   0,   0],\n",
              "       [  0,  23,   0,   0,   0,   0,   0,   0,   0,   0,   0,   0],\n",
              "       [  0,   0,  14,   0,   0,   0,   0,   0,   0,   0,   0,   0],\n",
              "       [  0,   0,   0, 297,   0,   0,   0,   1,   0,   0,   1,   0],\n",
              "       [  0,   0,   0,   0,  78,   0,   0,   0,   0,   0,   0,   0],\n",
              "       [  0,   0,   0,   0,   0, 180,   0,   0,   0,   0,   0,   0],\n",
              "       [  0,   0,   0,   0,   0,   0,  83,   0,   0,   0,   0,   0],\n",
              "       [  0,   1,   0,   0,   0,   0,   0,  31,   0,   0,   0,   0],\n",
              "       [  1,   0,   0,   0,   0,   0,   0,   0,   0,   0,   0,   0],\n",
              "       [  0,   0,   0,   0,   0,   0,   0,   0,   0,  99,   1,   0],\n",
              "       [  0,   0,   0,   0,   0,   0,   0,   0,   0,   0,  18,   0],\n",
              "       [  1,   0,   0,   0,   0,   0,   0,   0,   0,   0,   0,   0]])"
            ]
          },
          "execution_count": 52,
          "metadata": {},
          "output_type": "execute_result"
        }
      ],
      "source": [
        "y_true = yc_test\n",
        "print('XGB Classifier Confusion matrix\\n- x-axis is true labels.\\n- y-axis is predicted labels')\n",
        "cm = confusion_matrix(y_true, DTC_predictions)\n",
        "cm"
      ]
    },
    {
      "cell_type": "code",
      "execution_count": null,
      "metadata": {
        "colab": {
          "background_save": true,
          "base_uri": "https://localhost:8080/"
        },
        "id": "KXn9x46d3r_E",
        "outputId": "b3e28157-264c-4817-ec32-13b366a0d057"
      },
      "outputs": [
        {
          "name": "stdout",
          "output_type": "stream",
          "text": [
            "              precision    recall  f1-score   support\n",
            "\n",
            "           0       1.00      1.00      1.00       538\n",
            "           2       0.96      1.00      0.98        23\n",
            "           3       1.00      0.86      0.92        14\n",
            "           4       1.00      1.00      1.00       299\n",
            "           5       0.99      1.00      0.99        78\n",
            "           6       1.00      1.00      1.00       180\n",
            "           7       1.00      1.00      1.00        83\n",
            "           8       0.91      0.94      0.92        32\n",
            "           9       0.00      0.00      0.00         1\n",
            "          10       0.99      1.00      1.00       100\n",
            "          11       1.00      0.94      0.97        18\n",
            "          12       0.00      0.00      0.00         1\n",
            "\n",
            "    accuracy                           0.99      1367\n",
            "   macro avg       0.82      0.81      0.82      1367\n",
            "weighted avg       0.99      0.99      0.99      1367\n",
            "\n"
          ]
        },
        {
          "name": "stderr",
          "output_type": "stream",
          "text": [
            "/usr/local/lib/python3.7/dist-packages/sklearn/metrics/_classification.py:1318: UndefinedMetricWarning: Precision and F-score are ill-defined and being set to 0.0 in labels with no predicted samples. Use `zero_division` parameter to control this behavior.\n",
            "  _warn_prf(average, modifier, msg_start, len(result))\n",
            "/usr/local/lib/python3.7/dist-packages/sklearn/metrics/_classification.py:1318: UndefinedMetricWarning: Precision and F-score are ill-defined and being set to 0.0 in labels with no predicted samples. Use `zero_division` parameter to control this behavior.\n",
            "  _warn_prf(average, modifier, msg_start, len(result))\n",
            "/usr/local/lib/python3.7/dist-packages/sklearn/metrics/_classification.py:1318: UndefinedMetricWarning: Precision and F-score are ill-defined and being set to 0.0 in labels with no predicted samples. Use `zero_division` parameter to control this behavior.\n",
            "  _warn_prf(average, modifier, msg_start, len(result))\n"
          ]
        }
      ],
      "source": [
        "from sklearn import metrics\n",
        "print(metrics.classification_report(yc_test, y_pred))"
      ]
    },
    {
      "cell_type": "code",
      "execution_count": null,
      "metadata": {
        "colab": {
          "background_save": true
        },
        "id": "MzTD9StV3r_E"
      },
      "outputs": [],
      "source": []
    },
    {
      "cell_type": "markdown",
      "metadata": {
        "id": "gfHqm84rw0ck"
      },
      "source": [
        "###Random forest | Classifier"
      ]
    },
    {
      "cell_type": "markdown",
      "metadata": {
        "id": "9a6JQ3Vmw_Kw"
      },
      "source": [
        "##Train model"
      ]
    },
    {
      "cell_type": "code",
      "execution_count": null,
      "metadata": {
        "colab": {
          "background_save": true
        },
        "id": "_-D4NBcpw20v",
        "outputId": "e7f33b72-c554-45c1-fe11-777918dc74a8"
      },
      "outputs": [
        {
          "name": "stderr",
          "output_type": "stream",
          "text": [
            "/usr/local/lib/python3.7/dist-packages/ipykernel_launcher.py:6: DataConversionWarning: A column-vector y was passed when a 1d array was expected. Please change the shape of y to (n_samples,), for example using ravel().\n",
            "  \n"
          ]
        },
        {
          "data": {
            "text/plain": [
              "RandomForestClassifier(max_depth=2, random_state=0)"
            ]
          },
          "execution_count": 54,
          "metadata": {},
          "output_type": "execute_result"
        }
      ],
      "source": [
        "from sklearn.ensemble import RandomForestClassifier\n",
        "\n",
        "\n",
        "Random_Forest_Classifier = RandomForestClassifier(max_depth=2, random_state=0)\n",
        "\n",
        "Random_Forest_Classifier.fit(XC_train, yc_train)\n"
      ]
    },
    {
      "cell_type": "markdown",
      "metadata": {
        "id": "ksXpjk6Gt2Vz"
      },
      "source": [
        "####Test model"
      ]
    },
    {
      "cell_type": "code",
      "execution_count": null,
      "metadata": {
        "colab": {
          "background_save": true
        },
        "id": "UTD4w_Yet2V0"
      },
      "outputs": [],
      "source": [
        "# make predictions for test data\n",
        "y_pred = Random_Forest_Classifier.predict(XC_test)\n",
        "RFC_predictions = [round(value) for value in y_pred]"
      ]
    },
    {
      "cell_type": "code",
      "execution_count": null,
      "metadata": {
        "colab": {
          "background_save": true,
          "base_uri": "https://localhost:8080/"
        },
        "id": "YI-ExVvAt2V0",
        "outputId": "5483baa2-6dc3-4aba-87ca-e60705520b1d"
      },
      "outputs": [
        {
          "name": "stdout",
          "output_type": "stream",
          "text": [
            "Random Forest Classifier Test accuracy: 80.25%\n"
          ]
        }
      ],
      "source": [
        "# evaluate predictions\n",
        "accuracy = accuracy_score(yc_test, RFC_predictions)\n",
        "print(\"Random Forest Classifier Test accuracy: %.2f%%\" % (accuracy * 100.0))"
      ]
    },
    {
      "cell_type": "code",
      "execution_count": null,
      "metadata": {
        "colab": {
          "background_save": true,
          "base_uri": "https://localhost:8080/"
        },
        "id": "9AIRWghAt2V1",
        "outputId": "652c968d-d198-4dff-9444-19ffb8b862b9"
      },
      "outputs": [
        {
          "name": "stdout",
          "output_type": "stream",
          "text": [
            "Random Forest Classifier Confusion matrix\n",
            "- x-axis is true labels.\n",
            "- y-axis is predicted labels\n"
          ]
        },
        {
          "data": {
            "text/plain": [
              "array([[538,   0,   0,   0,   0,   0,   0,   0,   0,   0,   0,   0],\n",
              "       [  0,   0,   0,  23,   0,   0,   0,   0,   0,   0,   0,   0],\n",
              "       [  0,   0,   0,  14,   0,   0,   0,   0,   0,   0,   0,   0],\n",
              "       [  0,   0,   0, 299,   0,   0,   0,   0,   0,   0,   0,   0],\n",
              "       [  0,   0,   0,   4,   0,  74,   0,   0,   0,   0,   0,   0],\n",
              "       [  0,   0,   0,   0,   0, 180,   0,   0,   0,   0,   0,   0],\n",
              "       [  0,   0,   0,   0,   0,   3,  80,   0,   0,   0,   0,   0],\n",
              "       [  0,   0,   0,  20,   0,   0,  12,   0,   0,   0,   0,   0],\n",
              "       [  1,   0,   0,   0,   0,   0,   0,   0,   0,   0,   0,   0],\n",
              "       [  0,   0,   0, 100,   0,   0,   0,   0,   0,   0,   0,   0],\n",
              "       [  0,   0,   0,  18,   0,   0,   0,   0,   0,   0,   0,   0],\n",
              "       [  1,   0,   0,   0,   0,   0,   0,   0,   0,   0,   0,   0]])"
            ]
          },
          "execution_count": 57,
          "metadata": {},
          "output_type": "execute_result"
        }
      ],
      "source": [
        "y_true = yc_test\n",
        "print('Random Forest Classifier Confusion matrix\\n- x-axis is true labels.\\n- y-axis is predicted labels')\n",
        "cm = confusion_matrix(y_true, RFC_predictions)\n",
        "cm"
      ]
    },
    {
      "cell_type": "code",
      "execution_count": null,
      "metadata": {
        "colab": {
          "background_save": true,
          "base_uri": "https://localhost:8080/"
        },
        "id": "h1BkfeZdt2V2",
        "outputId": "c5d75da7-6df5-4a2b-e0ec-b481692e5460"
      },
      "outputs": [
        {
          "name": "stdout",
          "output_type": "stream",
          "text": [
            "              precision    recall  f1-score   support\n",
            "\n",
            "           0       1.00      1.00      1.00       538\n",
            "           2       0.00      0.00      0.00        23\n",
            "           3       0.00      0.00      0.00        14\n",
            "           4       0.63      1.00      0.77       299\n",
            "           5       0.00      0.00      0.00        78\n",
            "           6       0.70      1.00      0.82       180\n",
            "           7       0.87      0.96      0.91        83\n",
            "           8       0.00      0.00      0.00        32\n",
            "           9       0.00      0.00      0.00         1\n",
            "          10       0.00      0.00      0.00       100\n",
            "          11       0.00      0.00      0.00        18\n",
            "          12       0.00      0.00      0.00         1\n",
            "\n",
            "    accuracy                           0.80      1367\n",
            "   macro avg       0.27      0.33      0.29      1367\n",
            "weighted avg       0.67      0.80      0.73      1367\n",
            "\n"
          ]
        },
        {
          "name": "stderr",
          "output_type": "stream",
          "text": [
            "/usr/local/lib/python3.7/dist-packages/sklearn/metrics/_classification.py:1318: UndefinedMetricWarning: Precision and F-score are ill-defined and being set to 0.0 in labels with no predicted samples. Use `zero_division` parameter to control this behavior.\n",
            "  _warn_prf(average, modifier, msg_start, len(result))\n",
            "/usr/local/lib/python3.7/dist-packages/sklearn/metrics/_classification.py:1318: UndefinedMetricWarning: Precision and F-score are ill-defined and being set to 0.0 in labels with no predicted samples. Use `zero_division` parameter to control this behavior.\n",
            "  _warn_prf(average, modifier, msg_start, len(result))\n",
            "/usr/local/lib/python3.7/dist-packages/sklearn/metrics/_classification.py:1318: UndefinedMetricWarning: Precision and F-score are ill-defined and being set to 0.0 in labels with no predicted samples. Use `zero_division` parameter to control this behavior.\n",
            "  _warn_prf(average, modifier, msg_start, len(result))\n"
          ]
        }
      ],
      "source": [
        "from sklearn import metrics\n",
        "print(metrics.classification_report(yc_test, y_pred))"
      ]
    },
    {
      "cell_type": "code",
      "execution_count": null,
      "metadata": {
        "colab": {
          "background_save": true
        },
        "id": "ot0LpcHHt2V2"
      },
      "outputs": [],
      "source": []
    }
  ],
  "metadata": {
    "accelerator": "GPU",
    "colab": {
      "collapsed_sections": [],
      "provenance": []
    },
    "kernelspec": {
      "display_name": "Python 3",
      "name": "python3"
    },
    "language_info": {
      "name": "python"
    }
  },
  "nbformat": 4,
  "nbformat_minor": 0
}